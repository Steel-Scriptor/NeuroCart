{
  "cells": [
    {
      "cell_type": "markdown",
      "metadata": {
        "id": "Ub_l8TfduSYI"
      },
      "source": [
        "# Walmart Reviews Sentiment Analysis\n",
        "\n",
        "This notebook performs sentiment analysis on Walmart product reviews using a combination of:\n",
        "- TextBlob for basic sentiment scoring\n",
        "- VADER for context-aware sentiment analysis\n",
        "- Random Forest for final classification\n",
        "\n",
        "The dataset was obtained from https://www.kaggle.com/datasets/promptcloud/walmart-product-reviews-dataset on January 6, 2025"
      ]
    },
    {
      "cell_type": "markdown",
      "metadata": {
        "id": "7_NNyobCuSYU"
      },
      "source": [
        "## 1. Import required packages and install the required libraries"
      ]
    },
    {
      "cell_type": "code",
      "execution_count": 1,
      "metadata": {
        "colab": {
          "base_uri": "https://localhost:8080/"
        },
        "id": "7ujK1Gy_uSYX",
        "outputId": "60081350-0fa3-45b1-b361-ee420bd3785b"
      },
      "outputs": [
        {
          "output_type": "stream",
          "name": "stdout",
          "text": [
            "\u001b[?25l     \u001b[90m━━━━━━━━━━━━━━━━━━━━━━━━━━━━━━━━━━━━━━━━\u001b[0m \u001b[32m0.0/1.2 MB\u001b[0m \u001b[31m?\u001b[0m eta \u001b[36m-:--:--\u001b[0m\r\u001b[2K     \u001b[91m━━━━━━━━━━━━━━\u001b[0m\u001b[90m╺\u001b[0m\u001b[90m━━━━━━━━━━━━━━━━━━━━━━━━━\u001b[0m \u001b[32m0.4/1.2 MB\u001b[0m \u001b[31m12.4 MB/s\u001b[0m eta \u001b[36m0:00:01\u001b[0m\r\u001b[2K     \u001b[90m━━━━━━━━━━━━━━━━━━━━━━━━━━━━━━━━━━━━━━━━\u001b[0m \u001b[32m1.2/1.2 MB\u001b[0m \u001b[31m20.1 MB/s\u001b[0m eta \u001b[36m0:00:00\u001b[0m\n",
            "\u001b[?25h  Preparing metadata (setup.py) ... \u001b[?25l\u001b[?25hdone\n",
            "\u001b[2K   \u001b[90m━━━━━━━━━━━━━━━━━━━━━━━━━━━━━━━━━━━━━━━━\u001b[0m \u001b[32m1.5/1.5 MB\u001b[0m \u001b[31m55.9 MB/s\u001b[0m eta \u001b[36m0:00:00\u001b[0m\n",
            "\u001b[2K   \u001b[90m━━━━━━━━━━━━━━━━━━━━━━━━━━━━━━━━━━━━━━━━\u001b[0m \u001b[32m626.3/626.3 kB\u001b[0m \u001b[31m39.5 MB/s\u001b[0m eta \u001b[36m0:00:00\u001b[0m\n",
            "\u001b[2K   \u001b[90m━━━━━━━━━━━━━━━━━━━━━━━━━━━━━━━━━━━━━━━━\u001b[0m \u001b[32m126.0/126.0 kB\u001b[0m \u001b[31m9.4 MB/s\u001b[0m eta \u001b[36m0:00:00\u001b[0m\n",
            "\u001b[?25h  Building wheel for swifter (setup.py) ... \u001b[?25l\u001b[?25hdone\n"
          ]
        }
      ],
      "source": [
        "# Install required packages\n",
        "# nltk==3.9b1 was used here as other versions had some bugs\n",
        "!pip install -q textblob vaderSentiment nltk==3.9b1 scikit-learn pandas numpy matplotlib seaborn swifter"
      ]
    },
    {
      "cell_type": "code",
      "execution_count": 2,
      "metadata": {
        "id": "Ct-RXebD-7rU",
        "colab": {
          "base_uri": "https://localhost:8080/"
        },
        "outputId": "322adbe3-1c37-421f-e8e4-3c04cb701ba4"
      },
      "outputs": [
        {
          "output_type": "stream",
          "name": "stdout",
          "text": [
            "\u001b[2K   \u001b[90m━━━━━━━━━━━━━━━━━━━━━━━━━━━━━━━━━━━━━━━━\u001b[0m \u001b[32m99.2/99.2 MB\u001b[0m \u001b[31m8.1 MB/s\u001b[0m eta \u001b[36m0:00:00\u001b[0m\n",
            "\u001b[?25h"
          ]
        }
      ],
      "source": [
        "!pip -qq install catboost"
      ]
    },
    {
      "cell_type": "code",
      "execution_count": 3,
      "metadata": {
        "id": "GO-m6FGvuSYf"
      },
      "outputs": [],
      "source": [
        "# Import required libraries\n",
        "import pandas as pd\n",
        "import numpy as np\n",
        "import re\n",
        "import nltk\n",
        "from nltk.tokenize import word_tokenize\n",
        "from nltk.corpus import stopwords, wordnet\n",
        "from nltk.stem import WordNetLemmatizer\n",
        "from sklearn.model_selection import train_test_split\n",
        "from sklearn.feature_extraction.text import TfidfVectorizer\n",
        "from sklearn.ensemble import RandomForestClassifier\n",
        "from sklearn.metrics import accuracy_score, f1_score, roc_auc_score, confusion_matrix\n",
        "from sklearn.preprocessing import StandardScaler\n",
        "import matplotlib.pyplot as plt\n",
        "import seaborn as sns\n",
        "from textblob import TextBlob\n",
        "from vaderSentiment.vaderSentiment import SentimentIntensityAnalyzer\n",
        "import joblib\n",
        "from datetime import datetime\n",
        "import swifter #for paralel processing\n",
        "from google.colab import files"
      ]
    },
    {
      "cell_type": "code",
      "execution_count": 4,
      "metadata": {
        "id": "5BZbcHhXuSYi"
      },
      "outputs": [],
      "source": [
        "# Download required NLTK resources\n",
        "nltk_resources = ['punkt', 'punkt_tab','stopwords', 'wordnet', 'omw-1.4', 'averaged_perceptron_tagger']\n",
        "for resource in nltk_resources:\n",
        "    try:\n",
        "        nltk.data.find(f'tokenizers/{resource}' if 'punkt' in resource else f'corpora/{resource}')\n",
        "    except LookupError:\n",
        "        nltk.download(resource, quiet=True)"
      ]
    },
    {
      "cell_type": "markdown",
      "metadata": {
        "id": "M84vqZF-uSYl"
      },
      "source": [
        "## 2. Load the dataset and make basic preprocessing"
      ]
    },
    {
      "cell_type": "code",
      "execution_count": 5,
      "metadata": {
        "colab": {
          "base_uri": "https://localhost:8080/",
          "height": 111
        },
        "id": "rYAUa3KA0qNr",
        "outputId": "6fd0aefc-d565-4e1e-ef38-2efbcd83eb9c"
      },
      "outputs": [
        {
          "output_type": "display_data",
          "data": {
            "text/plain": [
              "<IPython.core.display.HTML object>"
            ],
            "text/html": [
              "\n",
              "     <input type=\"file\" id=\"files-13bf5a18-bb6b-483e-a38d-9230509a3994\" name=\"files[]\" multiple disabled\n",
              "        style=\"border:none\" />\n",
              "     <output id=\"result-13bf5a18-bb6b-483e-a38d-9230509a3994\">\n",
              "      Upload widget is only available when the cell has been executed in the\n",
              "      current browser session. Please rerun this cell to enable.\n",
              "      </output>\n",
              "      <script>// Copyright 2017 Google LLC\n",
              "//\n",
              "// Licensed under the Apache License, Version 2.0 (the \"License\");\n",
              "// you may not use this file except in compliance with the License.\n",
              "// You may obtain a copy of the License at\n",
              "//\n",
              "//      http://www.apache.org/licenses/LICENSE-2.0\n",
              "//\n",
              "// Unless required by applicable law or agreed to in writing, software\n",
              "// distributed under the License is distributed on an \"AS IS\" BASIS,\n",
              "// WITHOUT WARRANTIES OR CONDITIONS OF ANY KIND, either express or implied.\n",
              "// See the License for the specific language governing permissions and\n",
              "// limitations under the License.\n",
              "\n",
              "/**\n",
              " * @fileoverview Helpers for google.colab Python module.\n",
              " */\n",
              "(function(scope) {\n",
              "function span(text, styleAttributes = {}) {\n",
              "  const element = document.createElement('span');\n",
              "  element.textContent = text;\n",
              "  for (const key of Object.keys(styleAttributes)) {\n",
              "    element.style[key] = styleAttributes[key];\n",
              "  }\n",
              "  return element;\n",
              "}\n",
              "\n",
              "// Max number of bytes which will be uploaded at a time.\n",
              "const MAX_PAYLOAD_SIZE = 100 * 1024;\n",
              "\n",
              "function _uploadFiles(inputId, outputId) {\n",
              "  const steps = uploadFilesStep(inputId, outputId);\n",
              "  const outputElement = document.getElementById(outputId);\n",
              "  // Cache steps on the outputElement to make it available for the next call\n",
              "  // to uploadFilesContinue from Python.\n",
              "  outputElement.steps = steps;\n",
              "\n",
              "  return _uploadFilesContinue(outputId);\n",
              "}\n",
              "\n",
              "// This is roughly an async generator (not supported in the browser yet),\n",
              "// where there are multiple asynchronous steps and the Python side is going\n",
              "// to poll for completion of each step.\n",
              "// This uses a Promise to block the python side on completion of each step,\n",
              "// then passes the result of the previous step as the input to the next step.\n",
              "function _uploadFilesContinue(outputId) {\n",
              "  const outputElement = document.getElementById(outputId);\n",
              "  const steps = outputElement.steps;\n",
              "\n",
              "  const next = steps.next(outputElement.lastPromiseValue);\n",
              "  return Promise.resolve(next.value.promise).then((value) => {\n",
              "    // Cache the last promise value to make it available to the next\n",
              "    // step of the generator.\n",
              "    outputElement.lastPromiseValue = value;\n",
              "    return next.value.response;\n",
              "  });\n",
              "}\n",
              "\n",
              "/**\n",
              " * Generator function which is called between each async step of the upload\n",
              " * process.\n",
              " * @param {string} inputId Element ID of the input file picker element.\n",
              " * @param {string} outputId Element ID of the output display.\n",
              " * @return {!Iterable<!Object>} Iterable of next steps.\n",
              " */\n",
              "function* uploadFilesStep(inputId, outputId) {\n",
              "  const inputElement = document.getElementById(inputId);\n",
              "  inputElement.disabled = false;\n",
              "\n",
              "  const outputElement = document.getElementById(outputId);\n",
              "  outputElement.innerHTML = '';\n",
              "\n",
              "  const pickedPromise = new Promise((resolve) => {\n",
              "    inputElement.addEventListener('change', (e) => {\n",
              "      resolve(e.target.files);\n",
              "    });\n",
              "  });\n",
              "\n",
              "  const cancel = document.createElement('button');\n",
              "  inputElement.parentElement.appendChild(cancel);\n",
              "  cancel.textContent = 'Cancel upload';\n",
              "  const cancelPromise = new Promise((resolve) => {\n",
              "    cancel.onclick = () => {\n",
              "      resolve(null);\n",
              "    };\n",
              "  });\n",
              "\n",
              "  // Wait for the user to pick the files.\n",
              "  const files = yield {\n",
              "    promise: Promise.race([pickedPromise, cancelPromise]),\n",
              "    response: {\n",
              "      action: 'starting',\n",
              "    }\n",
              "  };\n",
              "\n",
              "  cancel.remove();\n",
              "\n",
              "  // Disable the input element since further picks are not allowed.\n",
              "  inputElement.disabled = true;\n",
              "\n",
              "  if (!files) {\n",
              "    return {\n",
              "      response: {\n",
              "        action: 'complete',\n",
              "      }\n",
              "    };\n",
              "  }\n",
              "\n",
              "  for (const file of files) {\n",
              "    const li = document.createElement('li');\n",
              "    li.append(span(file.name, {fontWeight: 'bold'}));\n",
              "    li.append(span(\n",
              "        `(${file.type || 'n/a'}) - ${file.size} bytes, ` +\n",
              "        `last modified: ${\n",
              "            file.lastModifiedDate ? file.lastModifiedDate.toLocaleDateString() :\n",
              "                                    'n/a'} - `));\n",
              "    const percent = span('0% done');\n",
              "    li.appendChild(percent);\n",
              "\n",
              "    outputElement.appendChild(li);\n",
              "\n",
              "    const fileDataPromise = new Promise((resolve) => {\n",
              "      const reader = new FileReader();\n",
              "      reader.onload = (e) => {\n",
              "        resolve(e.target.result);\n",
              "      };\n",
              "      reader.readAsArrayBuffer(file);\n",
              "    });\n",
              "    // Wait for the data to be ready.\n",
              "    let fileData = yield {\n",
              "      promise: fileDataPromise,\n",
              "      response: {\n",
              "        action: 'continue',\n",
              "      }\n",
              "    };\n",
              "\n",
              "    // Use a chunked sending to avoid message size limits. See b/62115660.\n",
              "    let position = 0;\n",
              "    do {\n",
              "      const length = Math.min(fileData.byteLength - position, MAX_PAYLOAD_SIZE);\n",
              "      const chunk = new Uint8Array(fileData, position, length);\n",
              "      position += length;\n",
              "\n",
              "      const base64 = btoa(String.fromCharCode.apply(null, chunk));\n",
              "      yield {\n",
              "        response: {\n",
              "          action: 'append',\n",
              "          file: file.name,\n",
              "          data: base64,\n",
              "        },\n",
              "      };\n",
              "\n",
              "      let percentDone = fileData.byteLength === 0 ?\n",
              "          100 :\n",
              "          Math.round((position / fileData.byteLength) * 100);\n",
              "      percent.textContent = `${percentDone}% done`;\n",
              "\n",
              "    } while (position < fileData.byteLength);\n",
              "  }\n",
              "\n",
              "  // All done.\n",
              "  yield {\n",
              "    response: {\n",
              "      action: 'complete',\n",
              "    }\n",
              "  };\n",
              "}\n",
              "\n",
              "scope.google = scope.google || {};\n",
              "scope.google.colab = scope.google.colab || {};\n",
              "scope.google.colab._files = {\n",
              "  _uploadFiles,\n",
              "  _uploadFilesContinue,\n",
              "};\n",
              "})(self);\n",
              "</script> "
            ]
          },
          "metadata": {}
        },
        {
          "output_type": "stream",
          "name": "stdout",
          "text": [
            "Saving marketing_sample_for_walmart_com-walmart_product_reviews__20200401_20200630__30k_data.csv to marketing_sample_for_walmart_com-walmart_product_reviews__20200401_20200630__30k_data.csv\n"
          ]
        }
      ],
      "source": [
        "uploaded = files.upload()"
      ]
    },
    {
      "cell_type": "code",
      "execution_count": 6,
      "metadata": {
        "colab": {
          "base_uri": "https://localhost:8080/"
        },
        "id": "TQhjck_0uSYn",
        "outputId": "c04e5dde-a826-4f04-ca85-a797d2fb28f6"
      },
      "outputs": [
        {
          "output_type": "stream",
          "name": "stdout",
          "text": [
            "\n",
            "Dataset Statistics:\n",
            "Total reviews: 29997\n",
            "\n",
            "Rating distribution:\n",
            "Rating\n",
            "1.0     3508\n",
            "2.0     1244\n",
            "3.0     1707\n",
            "4.0     4513\n",
            "5.0    19025\n",
            "Name: count, dtype: int64\n",
            "\n",
            "Average rating: 4.14\n"
          ]
        }
      ],
      "source": [
        "# Load your dataset\n",
        "file_path = '/content/marketing_sample_for_walmart_com-walmart_product_reviews__20200401_20200630__30k_data.csv'\n",
        "df = pd.read_csv(file_path)\n",
        "\n",
        "# Print dataset statistics\n",
        "print(\"\\nDataset Statistics:\")\n",
        "print(f\"Total reviews: {len(df)}\")\n",
        "print(\"\\nRating distribution:\")\n",
        "print(df['Rating'].value_counts().sort_index())\n",
        "print(f\"\\nAverage rating: {df['Rating'].mean():.2f}\")"
      ]
    },
    {
      "cell_type": "code",
      "execution_count": 7,
      "metadata": {
        "id": "ZrWMhRBvuSYr"
      },
      "outputs": [],
      "source": [
        "# Basic preprocessing\n",
        "df = df.dropna(subset=['Review', 'Rating'])\n",
        "df['Rating'] = pd.to_numeric(df['Rating'], errors='coerce')\n",
        "df = df.dropna(subset=['Rating'])\n",
        "df = df[df['Rating'].between(1, 5)]\n",
        "\n",
        "# Create boolean columns\n",
        "df['is_verified'] = df['Verified Purchaser'].map({'Yes': 1, 'No': 0})\n",
        "df['is_recommended'] = df['Recommended Purchase'].map({'Yes': 1, 'No': 0})\n",
        "\n",
        "# Handle numeric features\n",
        "df['upvotes'] = pd.to_numeric(df['Review Upvotes'], errors='coerce').fillna(0)\n",
        "df['downvotes'] = pd.to_numeric(df['Review Downvotes'], errors='coerce').fillna(0)\n",
        "df['helpfulness_score'] = np.where(df['upvotes'] + df['downvotes'] > 0,\n",
        "                                 df['upvotes'] / (df['upvotes'] + df['downvotes']),\n",
        "                                 0)"
      ]
    },
    {
      "cell_type": "markdown",
      "metadata": {
        "id": "l67Ixof2uSYt"
      },
      "source": [
        "## 3. Further preprocessing before model training"
      ]
    },
    {
      "cell_type": "markdown",
      "metadata": {
        "id": "SODmvGshuSYv"
      },
      "source": [
        "### 3.1. Text preprocessing of the reviews"
      ]
    },
    {
      "cell_type": "code",
      "execution_count": 8,
      "metadata": {
        "id": "Ouegj4u_uSYw"
      },
      "outputs": [],
      "source": [
        "# Text preprocessing functions\n",
        "def clean_text(text):\n",
        "    if not isinstance(text, str):\n",
        "        return \"\"\n",
        "    text = text.lower()\n",
        "    text = re.sub(r'[^a-zA-Z\\s]', '', text)\n",
        "    return ' '.join(text.split())\n",
        "\n",
        "def remove_stopwords(text):\n",
        "    if not isinstance(text, str):\n",
        "        return \"\"\n",
        "    stop_words = set(stopwords.words('english'))\n",
        "    words = text.split()\n",
        "    return ' '.join([w for w in words if w not in stop_words])\n",
        "\n",
        "def lemmatize_text(text):\n",
        "    try:\n",
        "        lemmatizer = WordNetLemmatizer()\n",
        "        words = word_tokenize(text)\n",
        "        pos_tags = nltk.pos_tag(words)\n",
        "\n",
        "        def get_wordnet_pos(tag):\n",
        "            tag = tag[0].upper()\n",
        "            tag_dict = {\n",
        "                \"J\": wordnet.ADJ,\n",
        "                \"N\": wordnet.NOUN,\n",
        "                \"V\": wordnet.VERB,\n",
        "                \"R\": wordnet.ADV\n",
        "            }\n",
        "            return tag_dict.get(tag, wordnet.NOUN)\n",
        "\n",
        "        lemmatized_words = []\n",
        "        for word, tag in pos_tags:\n",
        "            pos = get_wordnet_pos(tag)\n",
        "            lemma = lemmatizer.lemmatize(word.lower(), pos)\n",
        "            lemmatized_words.append(lemma)\n",
        "\n",
        "        return ' '.join(lemmatized_words)\n",
        "    except Exception as e:\n",
        "        words = word_tokenize(text)\n",
        "        return ' '.join([lemmatizer.lemmatize(word.lower(), wordnet.VERB) for word in words])\n",
        "\n",
        "def preprocess_text(text):\n",
        "    text = clean_text(text)\n",
        "    text = remove_stopwords(text)\n",
        "    text = lemmatize_text(text)\n",
        "    return text"
      ]
    },
    {
      "cell_type": "code",
      "execution_count": 9,
      "metadata": {
        "colab": {
          "base_uri": "https://localhost:8080/",
          "height": 49,
          "referenced_widgets": [
            "921a041a5b954143b566586be3d9438a",
            "d1ab01cd041c4aaa8902989f12c21434",
            "994e399614da4e53a38b229846f6e2f4",
            "bf4c018164774321b98df6abd976621a",
            "5c1bbb6f2ee0498ea9b6a3e310afd40a",
            "7178f98a1c3740eeb6765151ff1d0666",
            "27b4c5e2b0424010bbc24f45683a3721",
            "959cd7322008453983a259de4ae172dc",
            "f2d3726d521e4c209611839f3a9ef217",
            "ed8b5feaed134a1fb112c9701b311056",
            "ef1938a6cc604addb639d4d16ef8768f"
          ]
        },
        "id": "laN5TDXNuSYx",
        "outputId": "88d08387-d6d9-43dc-f46c-b87282c42534"
      },
      "outputs": [
        {
          "output_type": "display_data",
          "data": {
            "text/plain": [
              "Pandas Apply:   0%|          | 0/24617 [00:00<?, ?it/s]"
            ],
            "application/vnd.jupyter.widget-view+json": {
              "version_major": 2,
              "version_minor": 0,
              "model_id": "921a041a5b954143b566586be3d9438a"
            }
          },
          "metadata": {}
        }
      ],
      "source": [
        "# Process reviews using swifter to save time and have progress bar\n",
        "df['processed_review'] = df['Review'].swifter.apply(preprocess_text)"
      ]
    },
    {
      "cell_type": "markdown",
      "metadata": {
        "id": "j9S0Br4T5-kS"
      },
      "source": [
        "Saving the cleaned dataset"
      ]
    },
    {
      "cell_type": "code",
      "execution_count": 10,
      "metadata": {
        "colab": {
          "base_uri": "https://localhost:8080/"
        },
        "id": "11EPE6Xy6Cji",
        "outputId": "176bedad-409b-471c-a8f2-11e413618821"
      },
      "outputs": [
        {
          "output_type": "stream",
          "name": "stdout",
          "text": [
            "Cleaned data saved to walmart_reviews_cleaned.csv\n"
          ]
        }
      ],
      "source": [
        "df.to_csv(\"walmart_reviews_cleaned.csv\", index=False)\n",
        "print(\"Cleaned data saved to walmart_reviews_cleaned.csv\")"
      ]
    },
    {
      "cell_type": "markdown",
      "metadata": {
        "id": "ns9K9mZcuSYy"
      },
      "source": [
        "### 3.2. Feature extraction"
      ]
    },
    {
      "cell_type": "code",
      "execution_count": 11,
      "metadata": {
        "id": "TpLdfv9ruSYz"
      },
      "outputs": [],
      "source": [
        "# Feature extraction functions\n",
        "def extract_text_features(text):\n",
        "    blob = TextBlob(str(text))\n",
        "    vader = SentimentIntensityAnalyzer()\n",
        "    vader_scores = vader.polarity_scores(str(text))\n",
        "\n",
        "    return {\n",
        "        'polarity': blob.sentiment.polarity,\n",
        "        'subjectivity': blob.sentiment.subjectivity,\n",
        "        'compound_score': vader_scores['compound'],\n",
        "        'review_length': len(text),\n",
        "        'caps_ratio': sum(1 for c in text if c.isupper()) / len(text),\n",
        "        'exclamation_count': text.count('!'),\n",
        "        'question_count': text.count('?')\n",
        "    }\n",
        "\n",
        "def extract_topic_features(text):\n",
        "    text = text.lower()\n",
        "    return {\n",
        "        'has_customer_service': int(any(word in text for word in ['service', 'support', 'customer'])),\n",
        "        'has_delivery_issue': int(any(word in text for word in ['delivery', 'shipping', 'late'])),\n",
        "        'has_account_issue': int(any(word in text for word in ['account', 'login', 'password'])),\n",
        "        'has_refund_issue': int(any(word in text for word in ['refund', 'return', 'money']))\n",
        "    }"
      ]
    },
    {
      "cell_type": "code",
      "execution_count": 12,
      "metadata": {
        "colab": {
          "base_uri": "https://localhost:8080/",
          "height": 81,
          "referenced_widgets": [
            "9a2b037f22774236821de74c44f22d66",
            "82d53744847a46069e3f45db0ba6cfe0",
            "22b6d22f1d9144a48fe8ffeb13478de2",
            "e652b77ac95f420bb46d1237838dce4a",
            "fe08df94e5ed47baa9dcafc813c6e28f",
            "b5e825bbd6a2426580d543fcc5162b6d",
            "c7a9b77cfed34cfa9a648969af3ae609",
            "7f4696a59225464a845f2d2b47a42132",
            "a9f22928f3a34d96978dd36f709d5ee6",
            "1f43746720d14f9e8a0684c71cb15149",
            "d2e22f6400a8428c98843a1d5edf169a",
            "e45993e6c4534f348f7f81dbc3032e9e",
            "459fceff21594f2489e35705d42b5d78",
            "45f31271c5094b88a6c20e0b03159cb2",
            "7fe421308d254956928f4731ae0e4698",
            "9b9fc5299c9f444d8ce57de927d1bf5e",
            "4219afbb4b224861832b0611a0166cf1",
            "75b42b9b4133448a8f14c8b8d023a79f",
            "244286af80d4445998c8e36a5f13795a",
            "b9f5a1ae93ad49389d18ec9181106890",
            "a45ed92301604f8da9793a7c6d596acd",
            "0acf0b081f9e4352984c9bf87e00761c"
          ]
        },
        "id": "a-1wifI6uSY0",
        "outputId": "67438359-1985-4cce-8d10-a8a566b422b7"
      },
      "outputs": [
        {
          "output_type": "display_data",
          "data": {
            "text/plain": [
              "Pandas Apply:   0%|          | 0/24617 [00:00<?, ?it/s]"
            ],
            "application/vnd.jupyter.widget-view+json": {
              "version_major": 2,
              "version_minor": 0,
              "model_id": "9a2b037f22774236821de74c44f22d66"
            }
          },
          "metadata": {}
        },
        {
          "output_type": "display_data",
          "data": {
            "text/plain": [
              "Pandas Apply:   0%|          | 0/24617 [00:00<?, ?it/s]"
            ],
            "application/vnd.jupyter.widget-view+json": {
              "version_major": 2,
              "version_minor": 0,
              "model_id": "e45993e6c4534f348f7f81dbc3032e9e"
            }
          },
          "metadata": {}
        }
      ],
      "source": [
        "# Extract features\n",
        "text_features = df['Review'].swifter.apply(extract_text_features).apply(pd.Series)\n",
        "topic_features = df['processed_review'].swifter.apply(extract_topic_features).apply(pd.Series)"
      ]
    },
    {
      "cell_type": "code",
      "execution_count": 13,
      "metadata": {
        "id": "C54W9I2ZuSY2"
      },
      "outputs": [],
      "source": [
        "# Combine features\n",
        "df = pd.concat([df, text_features, topic_features], axis=1)"
      ]
    },
    {
      "cell_type": "markdown",
      "metadata": {
        "id": "tVwUolWCuSY3"
      },
      "source": [
        "## 4. Prepare data for modeling"
      ]
    },
    {
      "cell_type": "markdown",
      "metadata": {
        "id": "La2wME6auSY4"
      },
      "source": [
        "#### 4.1. Create sentiment labels"
      ]
    },
    {
      "cell_type": "markdown",
      "metadata": {
        "id": "KwUl3akluSY4"
      },
      "source": [
        "* pd.cut() categorizes the continuous compound scores into discrete bins\n",
        "\n",
        "* The bins are defined as:\n",
        "\n",
        "-1 to -0.1: Negative sentiment (label: 0)\n",
        "\n",
        "-0.1 to 0.1: Neutral sentiment (label: 1)\n",
        "\n",
        "0.1 to 1: Positive sentiment (label: 2)"
      ]
    },
    {
      "cell_type": "code",
      "execution_count": 14,
      "metadata": {
        "id": "frTiY_u4uSY5"
      },
      "outputs": [],
      "source": [
        "df['sentiment'] = pd.cut(\n",
        "    df['compound_score'],\n",
        "    bins=[-1, -0.1, 0.1, 1],\n",
        "    labels=[0, 1, 2]\n",
        ")"
      ]
    },
    {
      "cell_type": "code",
      "execution_count": 28,
      "metadata": {
        "id": "u90qeSleuSY6",
        "colab": {
          "base_uri": "https://localhost:8080/",
          "height": 999
        },
        "outputId": "d90c87d3-58be-4db2-91cc-04f108d6b661"
      },
      "outputs": [
        {
          "output_type": "execute_result",
          "data": {
            "text/plain": [
              "                                Uniq Id            Crawl Timestamp  \\\n",
              "0      1800878dcfa5255c691f2a87ce8b2869  2020-05-16 17:58:33 +0000   \n",
              "1      ac06ca1b77310d539c9a74eed7a8a8e2  2020-04-17 01:05:43 +0000   \n",
              "2      9c4b10fff4e5e2cc7e2e1bbed76e2220  2020-06-08 10:35:05 +0000   \n",
              "3      b5a5dc8de9fc0468aab961f097b56091  2020-04-13 03:57:29 +0000   \n",
              "4      430433b52b882e540c16363d448e012b  2020-05-19 03:52:42 +0000   \n",
              "...                                 ...                        ...   \n",
              "29991  8d751eb9c8ed7cebcd0451861b1abe09  2020-04-13 01:22:43 +0000   \n",
              "29992  355d86361ed106ae2e3168c75f501f34  2020-06-11 09:59:04 +0000   \n",
              "29994  ed0fc14441b566c17cdf6a7d52ba1959  2020-05-18 00:56:22 +0000   \n",
              "29995  5a19ee1daaf4c1b4d9459afaafe61e7e  2020-06-06 08:28:55 +0000   \n",
              "29996  9916e6e252183b721902bb1c03a11e4b  2020-04-27 06:40:26 +0000   \n",
              "\n",
              "                                                 Pageurl      Website  \\\n",
              "0       https://www.walmart.com/reviews/product/36907838  walmart.com   \n",
              "1      https://www.walmart.com/reviews/product/708236785  walmart.com   \n",
              "2      https://www.walmart.com/reviews/product/831078728  walmart.com   \n",
              "3       https://www.walmart.com/reviews/product/40712755  walmart.com   \n",
              "4       https://www.walmart.com/reviews/product/46597970  walmart.com   \n",
              "...                                                  ...          ...   \n",
              "29991   https://www.walmart.com/reviews/product/46573964  walmart.com   \n",
              "29992   https://www.walmart.com/reviews/product/27299919  walmart.com   \n",
              "29994  https://www.walmart.com/reviews/product/680155633  walmart.com   \n",
              "29995  https://www.walmart.com/reviews/product/786202247  walmart.com   \n",
              "29996   https://www.walmart.com/reviews/product/44487593  walmart.com   \n",
              "\n",
              "                         Title  Rating  \\\n",
              "0                          NaN     1.0   \n",
              "1                          NaN     4.0   \n",
              "2                          NaN     4.0   \n",
              "3                          NaN     5.0   \n",
              "4                          NaN     5.0   \n",
              "...                        ...     ...   \n",
              "29991                      NaN     5.0   \n",
              "29992  Roku 1 Streaming Player     5.0   \n",
              "29994                      NaN     1.0   \n",
              "29995                      NaN     5.0   \n",
              "29996                      NaN     5.0   \n",
              "\n",
              "                                                  Review    Reviewer Name  \\\n",
              "0      One star for looking nice. That’s it. After tr...             PJ10   \n",
              "1      Love this phone so far have had it almost a mo...            KelJo   \n",
              "2      This TV is absolutely fantastic. This is my th...  TheBigChalupa11   \n",
              "3      Refurb, good shape, good price, does what I wa...          Micalic   \n",
              "4      Very nice tablet! Looks brand new. Fired right...           jcan74   \n",
              "...                                                  ...              ...   \n",
              "29991  I'm pleased to say that the overall style fit ...           Quanzo   \n",
              "29992  My son got it for me for christmas i love it i...        jksbell19   \n",
              "29994  Ive had my t.v. since xmas. First thing that w...             Erin   \n",
              "29995  Good value, quality product, easy to setup, no...             TX17   \n",
              "29996  Movies long since forgottenabout my Roku about...             LMW2   \n",
              "\n",
              "       Review Upvotes  Review Downvotes  ... compound_score review_length  \\\n",
              "0                   0                 0  ...        -0.6988         188.0   \n",
              "1                   9                 3  ...         0.9390         190.0   \n",
              "2                   0                 0  ...         0.9624        1669.0   \n",
              "3                   0                 0  ...         0.7269          58.0   \n",
              "4                   0                 0  ...         0.8789         116.0   \n",
              "...               ...               ...  ...            ...           ...   \n",
              "29991               0                 0  ...         0.9558         235.0   \n",
              "29992               0                 0  ...         0.6369          64.0   \n",
              "29994               0                 0  ...        -0.8682         575.0   \n",
              "29995               0                 0  ...         0.8576          58.0   \n",
              "29996               0                 0  ...         0.0000         113.0   \n",
              "\n",
              "      caps_ratio  exclamation_count  question_count  has_customer_service  \\\n",
              "0       0.031915                1.0             0.0                     0   \n",
              "1       0.021053                4.0             0.0                     0   \n",
              "2       0.032355                0.0             0.0                     0   \n",
              "3       0.034483                0.0             0.0                     0   \n",
              "4       0.043103                1.0             0.0                     0   \n",
              "...          ...                ...             ...                   ...   \n",
              "29991   0.017021                0.0             0.0                     0   \n",
              "29992   0.015625                0.0             0.0                     0   \n",
              "29994   0.019130                0.0             0.0                     0   \n",
              "29995   0.017241                0.0             0.0                     0   \n",
              "29996   0.026549                0.0             0.0                     0   \n",
              "\n",
              "       has_delivery_issue  has_account_issue  has_refund_issue  sentiment  \n",
              "0                       0                  0                 1          0  \n",
              "1                       0                  0                 0          2  \n",
              "2                       0                  0                 0          2  \n",
              "3                       0                  0                 0          2  \n",
              "4                       0                  0                 0          2  \n",
              "...                   ...                ...               ...        ...  \n",
              "29991                   0                  0                 0          2  \n",
              "29992                   0                  0                 0          2  \n",
              "29994                   0                  0                 0          0  \n",
              "29995                   0                  0                 0          2  \n",
              "29996                   0                  0                 0          1  \n",
              "\n",
              "[24617 rows x 36 columns]"
            ],
            "text/html": [
              "\n",
              "  <div id=\"df-f923e9f6-bdd4-4f19-84d5-00409d1c8c7b\" class=\"colab-df-container\">\n",
              "    <div>\n",
              "<style scoped>\n",
              "    .dataframe tbody tr th:only-of-type {\n",
              "        vertical-align: middle;\n",
              "    }\n",
              "\n",
              "    .dataframe tbody tr th {\n",
              "        vertical-align: top;\n",
              "    }\n",
              "\n",
              "    .dataframe thead th {\n",
              "        text-align: right;\n",
              "    }\n",
              "</style>\n",
              "<table border=\"1\" class=\"dataframe\">\n",
              "  <thead>\n",
              "    <tr style=\"text-align: right;\">\n",
              "      <th></th>\n",
              "      <th>Uniq Id</th>\n",
              "      <th>Crawl Timestamp</th>\n",
              "      <th>Pageurl</th>\n",
              "      <th>Website</th>\n",
              "      <th>Title</th>\n",
              "      <th>Rating</th>\n",
              "      <th>Review</th>\n",
              "      <th>Reviewer Name</th>\n",
              "      <th>Review Upvotes</th>\n",
              "      <th>Review Downvotes</th>\n",
              "      <th>...</th>\n",
              "      <th>compound_score</th>\n",
              "      <th>review_length</th>\n",
              "      <th>caps_ratio</th>\n",
              "      <th>exclamation_count</th>\n",
              "      <th>question_count</th>\n",
              "      <th>has_customer_service</th>\n",
              "      <th>has_delivery_issue</th>\n",
              "      <th>has_account_issue</th>\n",
              "      <th>has_refund_issue</th>\n",
              "      <th>sentiment</th>\n",
              "    </tr>\n",
              "  </thead>\n",
              "  <tbody>\n",
              "    <tr>\n",
              "      <th>0</th>\n",
              "      <td>1800878dcfa5255c691f2a87ce8b2869</td>\n",
              "      <td>2020-05-16 17:58:33 +0000</td>\n",
              "      <td>https://www.walmart.com/reviews/product/36907838</td>\n",
              "      <td>walmart.com</td>\n",
              "      <td>NaN</td>\n",
              "      <td>1.0</td>\n",
              "      <td>One star for looking nice. That’s it. After tr...</td>\n",
              "      <td>PJ10</td>\n",
              "      <td>0</td>\n",
              "      <td>0</td>\n",
              "      <td>...</td>\n",
              "      <td>-0.6988</td>\n",
              "      <td>188.0</td>\n",
              "      <td>0.031915</td>\n",
              "      <td>1.0</td>\n",
              "      <td>0.0</td>\n",
              "      <td>0</td>\n",
              "      <td>0</td>\n",
              "      <td>0</td>\n",
              "      <td>1</td>\n",
              "      <td>0</td>\n",
              "    </tr>\n",
              "    <tr>\n",
              "      <th>1</th>\n",
              "      <td>ac06ca1b77310d539c9a74eed7a8a8e2</td>\n",
              "      <td>2020-04-17 01:05:43 +0000</td>\n",
              "      <td>https://www.walmart.com/reviews/product/708236785</td>\n",
              "      <td>walmart.com</td>\n",
              "      <td>NaN</td>\n",
              "      <td>4.0</td>\n",
              "      <td>Love this phone so far have had it almost a mo...</td>\n",
              "      <td>KelJo</td>\n",
              "      <td>9</td>\n",
              "      <td>3</td>\n",
              "      <td>...</td>\n",
              "      <td>0.9390</td>\n",
              "      <td>190.0</td>\n",
              "      <td>0.021053</td>\n",
              "      <td>4.0</td>\n",
              "      <td>0.0</td>\n",
              "      <td>0</td>\n",
              "      <td>0</td>\n",
              "      <td>0</td>\n",
              "      <td>0</td>\n",
              "      <td>2</td>\n",
              "    </tr>\n",
              "    <tr>\n",
              "      <th>2</th>\n",
              "      <td>9c4b10fff4e5e2cc7e2e1bbed76e2220</td>\n",
              "      <td>2020-06-08 10:35:05 +0000</td>\n",
              "      <td>https://www.walmart.com/reviews/product/831078728</td>\n",
              "      <td>walmart.com</td>\n",
              "      <td>NaN</td>\n",
              "      <td>4.0</td>\n",
              "      <td>This TV is absolutely fantastic. This is my th...</td>\n",
              "      <td>TheBigChalupa11</td>\n",
              "      <td>0</td>\n",
              "      <td>0</td>\n",
              "      <td>...</td>\n",
              "      <td>0.9624</td>\n",
              "      <td>1669.0</td>\n",
              "      <td>0.032355</td>\n",
              "      <td>0.0</td>\n",
              "      <td>0.0</td>\n",
              "      <td>0</td>\n",
              "      <td>0</td>\n",
              "      <td>0</td>\n",
              "      <td>0</td>\n",
              "      <td>2</td>\n",
              "    </tr>\n",
              "    <tr>\n",
              "      <th>3</th>\n",
              "      <td>b5a5dc8de9fc0468aab961f097b56091</td>\n",
              "      <td>2020-04-13 03:57:29 +0000</td>\n",
              "      <td>https://www.walmart.com/reviews/product/40712755</td>\n",
              "      <td>walmart.com</td>\n",
              "      <td>NaN</td>\n",
              "      <td>5.0</td>\n",
              "      <td>Refurb, good shape, good price, does what I wa...</td>\n",
              "      <td>Micalic</td>\n",
              "      <td>0</td>\n",
              "      <td>0</td>\n",
              "      <td>...</td>\n",
              "      <td>0.7269</td>\n",
              "      <td>58.0</td>\n",
              "      <td>0.034483</td>\n",
              "      <td>0.0</td>\n",
              "      <td>0.0</td>\n",
              "      <td>0</td>\n",
              "      <td>0</td>\n",
              "      <td>0</td>\n",
              "      <td>0</td>\n",
              "      <td>2</td>\n",
              "    </tr>\n",
              "    <tr>\n",
              "      <th>4</th>\n",
              "      <td>430433b52b882e540c16363d448e012b</td>\n",
              "      <td>2020-05-19 03:52:42 +0000</td>\n",
              "      <td>https://www.walmart.com/reviews/product/46597970</td>\n",
              "      <td>walmart.com</td>\n",
              "      <td>NaN</td>\n",
              "      <td>5.0</td>\n",
              "      <td>Very nice tablet! Looks brand new. Fired right...</td>\n",
              "      <td>jcan74</td>\n",
              "      <td>0</td>\n",
              "      <td>0</td>\n",
              "      <td>...</td>\n",
              "      <td>0.8789</td>\n",
              "      <td>116.0</td>\n",
              "      <td>0.043103</td>\n",
              "      <td>1.0</td>\n",
              "      <td>0.0</td>\n",
              "      <td>0</td>\n",
              "      <td>0</td>\n",
              "      <td>0</td>\n",
              "      <td>0</td>\n",
              "      <td>2</td>\n",
              "    </tr>\n",
              "    <tr>\n",
              "      <th>...</th>\n",
              "      <td>...</td>\n",
              "      <td>...</td>\n",
              "      <td>...</td>\n",
              "      <td>...</td>\n",
              "      <td>...</td>\n",
              "      <td>...</td>\n",
              "      <td>...</td>\n",
              "      <td>...</td>\n",
              "      <td>...</td>\n",
              "      <td>...</td>\n",
              "      <td>...</td>\n",
              "      <td>...</td>\n",
              "      <td>...</td>\n",
              "      <td>...</td>\n",
              "      <td>...</td>\n",
              "      <td>...</td>\n",
              "      <td>...</td>\n",
              "      <td>...</td>\n",
              "      <td>...</td>\n",
              "      <td>...</td>\n",
              "      <td>...</td>\n",
              "    </tr>\n",
              "    <tr>\n",
              "      <th>29991</th>\n",
              "      <td>8d751eb9c8ed7cebcd0451861b1abe09</td>\n",
              "      <td>2020-04-13 01:22:43 +0000</td>\n",
              "      <td>https://www.walmart.com/reviews/product/46573964</td>\n",
              "      <td>walmart.com</td>\n",
              "      <td>NaN</td>\n",
              "      <td>5.0</td>\n",
              "      <td>I'm pleased to say that the overall style fit ...</td>\n",
              "      <td>Quanzo</td>\n",
              "      <td>0</td>\n",
              "      <td>0</td>\n",
              "      <td>...</td>\n",
              "      <td>0.9558</td>\n",
              "      <td>235.0</td>\n",
              "      <td>0.017021</td>\n",
              "      <td>0.0</td>\n",
              "      <td>0.0</td>\n",
              "      <td>0</td>\n",
              "      <td>0</td>\n",
              "      <td>0</td>\n",
              "      <td>0</td>\n",
              "      <td>2</td>\n",
              "    </tr>\n",
              "    <tr>\n",
              "      <th>29992</th>\n",
              "      <td>355d86361ed106ae2e3168c75f501f34</td>\n",
              "      <td>2020-06-11 09:59:04 +0000</td>\n",
              "      <td>https://www.walmart.com/reviews/product/27299919</td>\n",
              "      <td>walmart.com</td>\n",
              "      <td>Roku 1 Streaming Player</td>\n",
              "      <td>5.0</td>\n",
              "      <td>My son got it for me for christmas i love it i...</td>\n",
              "      <td>jksbell19</td>\n",
              "      <td>0</td>\n",
              "      <td>0</td>\n",
              "      <td>...</td>\n",
              "      <td>0.6369</td>\n",
              "      <td>64.0</td>\n",
              "      <td>0.015625</td>\n",
              "      <td>0.0</td>\n",
              "      <td>0.0</td>\n",
              "      <td>0</td>\n",
              "      <td>0</td>\n",
              "      <td>0</td>\n",
              "      <td>0</td>\n",
              "      <td>2</td>\n",
              "    </tr>\n",
              "    <tr>\n",
              "      <th>29994</th>\n",
              "      <td>ed0fc14441b566c17cdf6a7d52ba1959</td>\n",
              "      <td>2020-05-18 00:56:22 +0000</td>\n",
              "      <td>https://www.walmart.com/reviews/product/680155633</td>\n",
              "      <td>walmart.com</td>\n",
              "      <td>NaN</td>\n",
              "      <td>1.0</td>\n",
              "      <td>Ive had my t.v. since xmas. First thing that w...</td>\n",
              "      <td>Erin</td>\n",
              "      <td>0</td>\n",
              "      <td>0</td>\n",
              "      <td>...</td>\n",
              "      <td>-0.8682</td>\n",
              "      <td>575.0</td>\n",
              "      <td>0.019130</td>\n",
              "      <td>0.0</td>\n",
              "      <td>0.0</td>\n",
              "      <td>0</td>\n",
              "      <td>0</td>\n",
              "      <td>0</td>\n",
              "      <td>0</td>\n",
              "      <td>0</td>\n",
              "    </tr>\n",
              "    <tr>\n",
              "      <th>29995</th>\n",
              "      <td>5a19ee1daaf4c1b4d9459afaafe61e7e</td>\n",
              "      <td>2020-06-06 08:28:55 +0000</td>\n",
              "      <td>https://www.walmart.com/reviews/product/786202247</td>\n",
              "      <td>walmart.com</td>\n",
              "      <td>NaN</td>\n",
              "      <td>5.0</td>\n",
              "      <td>Good value, quality product, easy to setup, no...</td>\n",
              "      <td>TX17</td>\n",
              "      <td>0</td>\n",
              "      <td>0</td>\n",
              "      <td>...</td>\n",
              "      <td>0.8576</td>\n",
              "      <td>58.0</td>\n",
              "      <td>0.017241</td>\n",
              "      <td>0.0</td>\n",
              "      <td>0.0</td>\n",
              "      <td>0</td>\n",
              "      <td>0</td>\n",
              "      <td>0</td>\n",
              "      <td>0</td>\n",
              "      <td>2</td>\n",
              "    </tr>\n",
              "    <tr>\n",
              "      <th>29996</th>\n",
              "      <td>9916e6e252183b721902bb1c03a11e4b</td>\n",
              "      <td>2020-04-27 06:40:26 +0000</td>\n",
              "      <td>https://www.walmart.com/reviews/product/44487593</td>\n",
              "      <td>walmart.com</td>\n",
              "      <td>NaN</td>\n",
              "      <td>5.0</td>\n",
              "      <td>Movies long since forgottenabout my Roku about...</td>\n",
              "      <td>LMW2</td>\n",
              "      <td>0</td>\n",
              "      <td>0</td>\n",
              "      <td>...</td>\n",
              "      <td>0.0000</td>\n",
              "      <td>113.0</td>\n",
              "      <td>0.026549</td>\n",
              "      <td>0.0</td>\n",
              "      <td>0.0</td>\n",
              "      <td>0</td>\n",
              "      <td>0</td>\n",
              "      <td>0</td>\n",
              "      <td>0</td>\n",
              "      <td>1</td>\n",
              "    </tr>\n",
              "  </tbody>\n",
              "</table>\n",
              "<p>24617 rows × 36 columns</p>\n",
              "</div>\n",
              "    <div class=\"colab-df-buttons\">\n",
              "\n",
              "  <div class=\"colab-df-container\">\n",
              "    <button class=\"colab-df-convert\" onclick=\"convertToInteractive('df-f923e9f6-bdd4-4f19-84d5-00409d1c8c7b')\"\n",
              "            title=\"Convert this dataframe to an interactive table.\"\n",
              "            style=\"display:none;\">\n",
              "\n",
              "  <svg xmlns=\"http://www.w3.org/2000/svg\" height=\"24px\" viewBox=\"0 -960 960 960\">\n",
              "    <path d=\"M120-120v-720h720v720H120Zm60-500h600v-160H180v160Zm220 220h160v-160H400v160Zm0 220h160v-160H400v160ZM180-400h160v-160H180v160Zm440 0h160v-160H620v160ZM180-180h160v-160H180v160Zm440 0h160v-160H620v160Z\"/>\n",
              "  </svg>\n",
              "    </button>\n",
              "\n",
              "  <style>\n",
              "    .colab-df-container {\n",
              "      display:flex;\n",
              "      gap: 12px;\n",
              "    }\n",
              "\n",
              "    .colab-df-convert {\n",
              "      background-color: #E8F0FE;\n",
              "      border: none;\n",
              "      border-radius: 50%;\n",
              "      cursor: pointer;\n",
              "      display: none;\n",
              "      fill: #1967D2;\n",
              "      height: 32px;\n",
              "      padding: 0 0 0 0;\n",
              "      width: 32px;\n",
              "    }\n",
              "\n",
              "    .colab-df-convert:hover {\n",
              "      background-color: #E2EBFA;\n",
              "      box-shadow: 0px 1px 2px rgba(60, 64, 67, 0.3), 0px 1px 3px 1px rgba(60, 64, 67, 0.15);\n",
              "      fill: #174EA6;\n",
              "    }\n",
              "\n",
              "    .colab-df-buttons div {\n",
              "      margin-bottom: 4px;\n",
              "    }\n",
              "\n",
              "    [theme=dark] .colab-df-convert {\n",
              "      background-color: #3B4455;\n",
              "      fill: #D2E3FC;\n",
              "    }\n",
              "\n",
              "    [theme=dark] .colab-df-convert:hover {\n",
              "      background-color: #434B5C;\n",
              "      box-shadow: 0px 1px 3px 1px rgba(0, 0, 0, 0.15);\n",
              "      filter: drop-shadow(0px 1px 2px rgba(0, 0, 0, 0.3));\n",
              "      fill: #FFFFFF;\n",
              "    }\n",
              "  </style>\n",
              "\n",
              "    <script>\n",
              "      const buttonEl =\n",
              "        document.querySelector('#df-f923e9f6-bdd4-4f19-84d5-00409d1c8c7b button.colab-df-convert');\n",
              "      buttonEl.style.display =\n",
              "        google.colab.kernel.accessAllowed ? 'block' : 'none';\n",
              "\n",
              "      async function convertToInteractive(key) {\n",
              "        const element = document.querySelector('#df-f923e9f6-bdd4-4f19-84d5-00409d1c8c7b');\n",
              "        const dataTable =\n",
              "          await google.colab.kernel.invokeFunction('convertToInteractive',\n",
              "                                                    [key], {});\n",
              "        if (!dataTable) return;\n",
              "\n",
              "        const docLinkHtml = 'Like what you see? Visit the ' +\n",
              "          '<a target=\"_blank\" href=https://colab.research.google.com/notebooks/data_table.ipynb>data table notebook</a>'\n",
              "          + ' to learn more about interactive tables.';\n",
              "        element.innerHTML = '';\n",
              "        dataTable['output_type'] = 'display_data';\n",
              "        await google.colab.output.renderOutput(dataTable, element);\n",
              "        const docLink = document.createElement('div');\n",
              "        docLink.innerHTML = docLinkHtml;\n",
              "        element.appendChild(docLink);\n",
              "      }\n",
              "    </script>\n",
              "  </div>\n",
              "\n",
              "\n",
              "    <div id=\"df-376ca633-1ce7-4e69-b31c-9932482e3fb5\">\n",
              "      <button class=\"colab-df-quickchart\" onclick=\"quickchart('df-376ca633-1ce7-4e69-b31c-9932482e3fb5')\"\n",
              "                title=\"Suggest charts\"\n",
              "                style=\"display:none;\">\n",
              "\n",
              "<svg xmlns=\"http://www.w3.org/2000/svg\" height=\"24px\"viewBox=\"0 0 24 24\"\n",
              "     width=\"24px\">\n",
              "    <g>\n",
              "        <path d=\"M19 3H5c-1.1 0-2 .9-2 2v14c0 1.1.9 2 2 2h14c1.1 0 2-.9 2-2V5c0-1.1-.9-2-2-2zM9 17H7v-7h2v7zm4 0h-2V7h2v10zm4 0h-2v-4h2v4z\"/>\n",
              "    </g>\n",
              "</svg>\n",
              "      </button>\n",
              "\n",
              "<style>\n",
              "  .colab-df-quickchart {\n",
              "      --bg-color: #E8F0FE;\n",
              "      --fill-color: #1967D2;\n",
              "      --hover-bg-color: #E2EBFA;\n",
              "      --hover-fill-color: #174EA6;\n",
              "      --disabled-fill-color: #AAA;\n",
              "      --disabled-bg-color: #DDD;\n",
              "  }\n",
              "\n",
              "  [theme=dark] .colab-df-quickchart {\n",
              "      --bg-color: #3B4455;\n",
              "      --fill-color: #D2E3FC;\n",
              "      --hover-bg-color: #434B5C;\n",
              "      --hover-fill-color: #FFFFFF;\n",
              "      --disabled-bg-color: #3B4455;\n",
              "      --disabled-fill-color: #666;\n",
              "  }\n",
              "\n",
              "  .colab-df-quickchart {\n",
              "    background-color: var(--bg-color);\n",
              "    border: none;\n",
              "    border-radius: 50%;\n",
              "    cursor: pointer;\n",
              "    display: none;\n",
              "    fill: var(--fill-color);\n",
              "    height: 32px;\n",
              "    padding: 0;\n",
              "    width: 32px;\n",
              "  }\n",
              "\n",
              "  .colab-df-quickchart:hover {\n",
              "    background-color: var(--hover-bg-color);\n",
              "    box-shadow: 0 1px 2px rgba(60, 64, 67, 0.3), 0 1px 3px 1px rgba(60, 64, 67, 0.15);\n",
              "    fill: var(--button-hover-fill-color);\n",
              "  }\n",
              "\n",
              "  .colab-df-quickchart-complete:disabled,\n",
              "  .colab-df-quickchart-complete:disabled:hover {\n",
              "    background-color: var(--disabled-bg-color);\n",
              "    fill: var(--disabled-fill-color);\n",
              "    box-shadow: none;\n",
              "  }\n",
              "\n",
              "  .colab-df-spinner {\n",
              "    border: 2px solid var(--fill-color);\n",
              "    border-color: transparent;\n",
              "    border-bottom-color: var(--fill-color);\n",
              "    animation:\n",
              "      spin 1s steps(1) infinite;\n",
              "  }\n",
              "\n",
              "  @keyframes spin {\n",
              "    0% {\n",
              "      border-color: transparent;\n",
              "      border-bottom-color: var(--fill-color);\n",
              "      border-left-color: var(--fill-color);\n",
              "    }\n",
              "    20% {\n",
              "      border-color: transparent;\n",
              "      border-left-color: var(--fill-color);\n",
              "      border-top-color: var(--fill-color);\n",
              "    }\n",
              "    30% {\n",
              "      border-color: transparent;\n",
              "      border-left-color: var(--fill-color);\n",
              "      border-top-color: var(--fill-color);\n",
              "      border-right-color: var(--fill-color);\n",
              "    }\n",
              "    40% {\n",
              "      border-color: transparent;\n",
              "      border-right-color: var(--fill-color);\n",
              "      border-top-color: var(--fill-color);\n",
              "    }\n",
              "    60% {\n",
              "      border-color: transparent;\n",
              "      border-right-color: var(--fill-color);\n",
              "    }\n",
              "    80% {\n",
              "      border-color: transparent;\n",
              "      border-right-color: var(--fill-color);\n",
              "      border-bottom-color: var(--fill-color);\n",
              "    }\n",
              "    90% {\n",
              "      border-color: transparent;\n",
              "      border-bottom-color: var(--fill-color);\n",
              "    }\n",
              "  }\n",
              "</style>\n",
              "\n",
              "      <script>\n",
              "        async function quickchart(key) {\n",
              "          const quickchartButtonEl =\n",
              "            document.querySelector('#' + key + ' button');\n",
              "          quickchartButtonEl.disabled = true;  // To prevent multiple clicks.\n",
              "          quickchartButtonEl.classList.add('colab-df-spinner');\n",
              "          try {\n",
              "            const charts = await google.colab.kernel.invokeFunction(\n",
              "                'suggestCharts', [key], {});\n",
              "          } catch (error) {\n",
              "            console.error('Error during call to suggestCharts:', error);\n",
              "          }\n",
              "          quickchartButtonEl.classList.remove('colab-df-spinner');\n",
              "          quickchartButtonEl.classList.add('colab-df-quickchart-complete');\n",
              "        }\n",
              "        (() => {\n",
              "          let quickchartButtonEl =\n",
              "            document.querySelector('#df-376ca633-1ce7-4e69-b31c-9932482e3fb5 button');\n",
              "          quickchartButtonEl.style.display =\n",
              "            google.colab.kernel.accessAllowed ? 'block' : 'none';\n",
              "        })();\n",
              "      </script>\n",
              "    </div>\n",
              "\n",
              "  <div id=\"id_c381d84a-c59e-415e-a414-5d28e49fe4aa\">\n",
              "    <style>\n",
              "      .colab-df-generate {\n",
              "        background-color: #E8F0FE;\n",
              "        border: none;\n",
              "        border-radius: 50%;\n",
              "        cursor: pointer;\n",
              "        display: none;\n",
              "        fill: #1967D2;\n",
              "        height: 32px;\n",
              "        padding: 0 0 0 0;\n",
              "        width: 32px;\n",
              "      }\n",
              "\n",
              "      .colab-df-generate:hover {\n",
              "        background-color: #E2EBFA;\n",
              "        box-shadow: 0px 1px 2px rgba(60, 64, 67, 0.3), 0px 1px 3px 1px rgba(60, 64, 67, 0.15);\n",
              "        fill: #174EA6;\n",
              "      }\n",
              "\n",
              "      [theme=dark] .colab-df-generate {\n",
              "        background-color: #3B4455;\n",
              "        fill: #D2E3FC;\n",
              "      }\n",
              "\n",
              "      [theme=dark] .colab-df-generate:hover {\n",
              "        background-color: #434B5C;\n",
              "        box-shadow: 0px 1px 3px 1px rgba(0, 0, 0, 0.15);\n",
              "        filter: drop-shadow(0px 1px 2px rgba(0, 0, 0, 0.3));\n",
              "        fill: #FFFFFF;\n",
              "      }\n",
              "    </style>\n",
              "    <button class=\"colab-df-generate\" onclick=\"generateWithVariable('df')\"\n",
              "            title=\"Generate code using this dataframe.\"\n",
              "            style=\"display:none;\">\n",
              "\n",
              "  <svg xmlns=\"http://www.w3.org/2000/svg\" height=\"24px\"viewBox=\"0 0 24 24\"\n",
              "       width=\"24px\">\n",
              "    <path d=\"M7,19H8.4L18.45,9,17,7.55,7,17.6ZM5,21V16.75L18.45,3.32a2,2,0,0,1,2.83,0l1.4,1.43a1.91,1.91,0,0,1,.58,1.4,1.91,1.91,0,0,1-.58,1.4L9.25,21ZM18.45,9,17,7.55Zm-12,3A5.31,5.31,0,0,0,4.9,8.1,5.31,5.31,0,0,0,1,6.5,5.31,5.31,0,0,0,4.9,4.9,5.31,5.31,0,0,0,6.5,1,5.31,5.31,0,0,0,8.1,4.9,5.31,5.31,0,0,0,12,6.5,5.46,5.46,0,0,0,6.5,12Z\"/>\n",
              "  </svg>\n",
              "    </button>\n",
              "    <script>\n",
              "      (() => {\n",
              "      const buttonEl =\n",
              "        document.querySelector('#id_c381d84a-c59e-415e-a414-5d28e49fe4aa button.colab-df-generate');\n",
              "      buttonEl.style.display =\n",
              "        google.colab.kernel.accessAllowed ? 'block' : 'none';\n",
              "\n",
              "      buttonEl.onclick = () => {\n",
              "        google.colab.notebook.generateWithVariable('df');\n",
              "      }\n",
              "      })();\n",
              "    </script>\n",
              "  </div>\n",
              "\n",
              "    </div>\n",
              "  </div>\n"
            ],
            "application/vnd.google.colaboratory.intrinsic+json": {
              "type": "dataframe",
              "variable_name": "df"
            }
          },
          "metadata": {},
          "execution_count": 28
        }
      ],
      "source": [
        "df"
      ]
    },
    {
      "cell_type": "code",
      "source": [
        "df.to_csv(\"walmart_reviews_cleaned_2.csv\", index=False)\n",
        "print(\"Cleaned data saved to walmart_reviews_cleaned_2.csv\")"
      ],
      "metadata": {
        "id": "ebDPD3kqZae9",
        "colab": {
          "base_uri": "https://localhost:8080/"
        },
        "outputId": "b2eddcd4-da1e-4f06-fbe5-f2128800dbb9"
      },
      "execution_count": 29,
      "outputs": [
        {
          "output_type": "stream",
          "name": "stdout",
          "text": [
            "Cleaned data saved to walmart_reviews_cleaned_2.csv\n"
          ]
        }
      ]
    },
    {
      "cell_type": "code",
      "source": [
        "oh yeah"
      ],
      "metadata": {
        "colab": {
          "base_uri": "https://localhost:8080/",
          "height": 110
        },
        "id": "NKqjX8YKuAZI",
        "outputId": "419c20de-25ee-4651-926c-19e9bef463c6"
      },
      "execution_count": 17,
      "outputs": [
        {
          "output_type": "error",
          "ename": "SyntaxError",
          "evalue": "invalid syntax (ipython-input-17-1749835563.py, line 1)",
          "traceback": [
            "\u001b[0;36m  File \u001b[0;32m\"/tmp/ipython-input-17-1749835563.py\"\u001b[0;36m, line \u001b[0;32m1\u001b[0m\n\u001b[0;31m    oh yeah\u001b[0m\n\u001b[0m       ^\u001b[0m\n\u001b[0;31mSyntaxError\u001b[0m\u001b[0;31m:\u001b[0m invalid syntax\n"
          ]
        }
      ]
    },
    {
      "cell_type": "markdown",
      "metadata": {
        "id": "Nw2Xd4GduSY7"
      },
      "source": [
        "#### 4.2. Initialize vectorizer"
      ]
    },
    {
      "cell_type": "markdown",
      "metadata": {
        "id": "_EGzqmu9uSY7"
      },
      "source": [
        "* TF-IDF Vectorizer is a technique used in natural language processing (NLP) and information retrieval to convert text data into numerical form, which can then be used for machine learning models. TF-IDF stands for Term Frequency-Inverse Document Frequency, and it is a statistical measure that reflects the importance of a word in a document relative to a collection of documents (corpus).\n",
        "\n",
        "* How TF-IDF Vectorizer Works:\n",
        "    * The TF-IDF Vectorizer takes a corpus of text documents and converts them into a matrix of TF-IDF features.\n",
        "    * Each row in the matrix represents a document, and each column represents a term (word) from the corpus.\n",
        "    * The value in each cell is the TF-IDF score of the term for that document."
      ]
    },
    {
      "cell_type": "code",
      "execution_count": 30,
      "metadata": {
        "id": "KSOhJj-KuSY8"
      },
      "outputs": [],
      "source": [
        "vectorizer = TfidfVectorizer(\n",
        "    max_features=3500,      # Keep only top 3500 most frequent words\n",
        "    ngram_range=(1, 3),     # Use unigrams, bigrams, and trigrams\n",
        "    min_df=2,               # Ignore terms that appear in less than 2 documents\n",
        "    max_df=0.95,           # Ignore terms that appear in more than 95% of documents\n",
        "    strip_accents='unicode', # Remove accents\n",
        "    use_idf=True,          # Enable inverse-document-frequency reweighting\n",
        "    smooth_idf=True,       # Add 1 to document frequencies to prevent division by zero\n",
        "    sublinear_tf=True      # Apply sublinear scaling to term frequencies (1 + log(tf))\n",
        ")"
      ]
    },
    {
      "cell_type": "code",
      "execution_count": 31,
      "metadata": {
        "id": "6GTnfusR9kU1"
      },
      "outputs": [],
      "source": [
        "text_features = vectorizer.fit_transform(df['processed_review']).toarray()"
      ]
    },
    {
      "cell_type": "code",
      "execution_count": 32,
      "metadata": {
        "id": "9zuQLBAc9l-W"
      },
      "outputs": [],
      "source": [
        "# Combine with your existing numeric/topic features\n",
        "numeric_features = df[\n",
        "    [\n",
        "        'has_customer_service',\n",
        "        'has_delivery_issue',\n",
        "        'has_account_issue',\n",
        "        'has_refund_issue',\n",
        "        'review_length',\n",
        "        'caps_ratio',\n",
        "        'exclamation_count',\n",
        "        'question_count'\n",
        "    ]\n",
        "].values"
      ]
    },
    {
      "cell_type": "code",
      "execution_count": 33,
      "metadata": {
        "id": "AH8E0XTv9sfQ"
      },
      "outputs": [],
      "source": [
        "# Final feature matrix and labels\n",
        "X = np.hstack([text_features, numeric_features])\n",
        "y = df['sentiment']"
      ]
    },
    {
      "cell_type": "code",
      "source": [
        "print(df['sentiment'].value_counts(normalize=True))"
      ],
      "metadata": {
        "id": "3pryOQcoCseB",
        "colab": {
          "base_uri": "https://localhost:8080/"
        },
        "outputId": "d2692935-da45-4ec5-ea73-37d39dc90942"
      },
      "execution_count": 34,
      "outputs": [
        {
          "output_type": "stream",
          "name": "stdout",
          "text": [
            "sentiment\n",
            "2    0.804647\n",
            "0    0.121908\n",
            "1    0.073445\n",
            "Name: proportion, dtype: float64\n"
          ]
        }
      ]
    },
    {
      "cell_type": "code",
      "execution_count": 35,
      "metadata": {
        "id": "90XQiK609wfS"
      },
      "outputs": [],
      "source": [
        "# 4.3 Split into train and test\n",
        "X_train, X_test, y_train, y_test = train_test_split(\n",
        "    X, y, test_size=0.2, stratify=y, random_state=42\n",
        ")"
      ]
    },
    {
      "cell_type": "code",
      "source": [
        "from sklearn.preprocessing import StandardScaler\n",
        "\n",
        "# 4.3 Split\n",
        "X_train, X_test, y_train, y_test = train_test_split(\n",
        "    X, y, test_size=0.2, stratify=y, random_state=42\n",
        ")\n",
        "\n",
        "# Assume TF-IDF is first part of X, numeric_features second\n",
        "tfidf_dim = text_features.shape[1]\n",
        "\n",
        "scaler = StandardScaler()\n",
        "X_train_num = scaler.fit_transform(X_train[:, tfidf_dim:])\n",
        "X_test_num  = scaler.transform(X_test[:, tfidf_dim:])\n",
        "\n",
        "# Reassemble feature matrices\n",
        "X_train = np.hstack([X_train[:, :tfidf_dim], X_train_num])\n",
        "X_test  = np.hstack([X_test[:, :tfidf_dim], X_test_num])"
      ],
      "metadata": {
        "id": "MB5iVHkIB5P8"
      },
      "execution_count": 36,
      "outputs": []
    },
    {
      "cell_type": "code",
      "source": [
        "import joblib\n",
        "\n",
        "# Save vectorizer\n",
        "joblib.dump(vectorizer, \"tfidf_vectorizer.joblib\")\n",
        "print(\"✅ Saved TF‑IDF vectorizer → tfidf_vectorizer.joblib\")\n",
        "\n",
        "# Save scaler\n",
        "joblib.dump(scaler, \"numeric_scaler.joblib\")\n",
        "print(\"✅ Saved numeric scaler → numeric_scaler.joblib\")"
      ],
      "metadata": {
        "id": "g8X6tjCnV6yI",
        "colab": {
          "base_uri": "https://localhost:8080/"
        },
        "outputId": "90738613-af03-42eb-d11d-71ce091e6d4c"
      },
      "execution_count": 25,
      "outputs": [
        {
          "output_type": "stream",
          "name": "stdout",
          "text": [
            "✅ Saved TF‑IDF vectorizer → tfidf_vectorizer.joblib\n",
            "✅ Saved numeric scaler → numeric_scaler.joblib\n"
          ]
        }
      ]
    },
    {
      "cell_type": "code",
      "execution_count": 37,
      "metadata": {
        "id": "ukL1kSlu9wrb"
      },
      "outputs": [],
      "source": [
        "# 4.4 Train and evaluate multiple classifiers\n",
        "from sklearn.linear_model import LogisticRegression\n",
        "from sklearn.ensemble import RandomForestClassifier, AdaBoostClassifier, GradientBoostingClassifier\n",
        "from xgboost import XGBClassifier\n",
        "from catboost import CatBoostClassifier\n",
        "from sklearn.metrics import accuracy_score, f1_score, roc_auc_score"
      ]
    },
    {
      "cell_type": "code",
      "source": [
        "from sklearn.linear_model import LogisticRegression\n",
        "\n",
        "classifier = LogisticRegression(\n",
        "    solver=\"saga\",           # better for large sparse data\n",
        "    penalty=\"l2\",\n",
        "    C=1.0,\n",
        "    max_iter=2000,\n",
        "    class_weight=\"balanced\",\n",
        "    random_state=42,\n",
        "    n_jobs=-1\n",
        ")\n",
        "\n",
        "\n",
        "classifier.fit(X_train, y_train)\n",
        "\n",
        "y_pred = classifier.predict(X_test)\n",
        "y_pred_proba = classifier.predict_proba(X_test)\n",
        "\n",
        "accuracy = accuracy_score(y_test, y_pred)\n",
        "f1 = f1_score(y_test, y_pred, average='weighted')\n",
        "roc_auc = roc_auc_score(y_test, y_pred_proba, multi_class='ovr')\n",
        "\n",
        "print(\"Logistic Regression Performance\")\n",
        "print(f\"Accuracy: {accuracy:.3f}\")\n",
        "print(f\"F1 Score: {f1:.3f}\")\n",
        "print(f\"ROC AUC: {roc_auc:.3f}\")"
      ],
      "metadata": {
        "id": "PKftFxbA9GOZ"
      },
      "execution_count": null,
      "outputs": []
    },
    {
      "cell_type": "code",
      "source": [
        "joblib.dump(classifier, \"logistic_regression.joblib\")\n",
        "print(\"✅ Saved Logistic Regression → logistic_regression.joblib\")"
      ],
      "metadata": {
        "id": "LHfgQMOzV_uf"
      },
      "execution_count": null,
      "outputs": []
    },
    {
      "cell_type": "code",
      "source": [
        "from sklearn.ensemble import RandomForestClassifier\n",
        "\n",
        "classifier2 = RandomForestClassifier(\n",
        "    n_estimators=300,\n",
        "    min_samples_split=5,\n",
        "    min_samples_leaf=2,\n",
        "    max_features=\"sqrt\",\n",
        "    class_weight=\"balanced\",\n",
        "    random_state=42,\n",
        "    n_jobs=-1\n",
        ")\n",
        "\n",
        "\n",
        "classifier2.fit(X_train, y_train)\n",
        "\n",
        "y_pred = classifier2.predict(X_test)\n",
        "y_pred_proba = classifier2.predict_proba(X_test)\n",
        "\n",
        "accuracy = accuracy_score(y_test, y_pred)\n",
        "f1 = f1_score(y_test, y_pred, average='weighted')\n",
        "roc_auc = roc_auc_score(y_test, y_pred_proba, multi_class='ovr')\n",
        "\n",
        "print(\"Random Forest Performance\")\n",
        "print(f\"Accuracy: {accuracy:.3f}\")\n",
        "print(f\"F1 Score: {f1:.3f}\")\n",
        "print(f\"ROC AUC: {roc_auc:.3f}\")"
      ],
      "metadata": {
        "id": "vml6-zGH9KBe"
      },
      "execution_count": null,
      "outputs": []
    },
    {
      "cell_type": "code",
      "source": [
        "joblib.dump(classifier2, \"random_forest.joblib\")\n",
        "print(\"✅ Saved Random Forest → random_forest.joblib\")\n"
      ],
      "metadata": {
        "id": "9MbuRfMOWKOB"
      },
      "execution_count": null,
      "outputs": []
    },
    {
      "cell_type": "code",
      "source": [
        "from xgboost import XGBClassifier\n",
        "\n",
        "classifier3 = XGBClassifier(\n",
        "    tree_method=\"hist\",        # fast histogram grower\n",
        "    n_estimators=200,          # boosting rounds\n",
        "    max_depth=6,               # tree depth\n",
        "    learning_rate=0.1,         # shrinkage\n",
        "    subsample=0.8,             # row sampling\n",
        "    colsample_bytree=0.8,      # feature sampling\n",
        "    scale_pos_weight=(y_train == 0).sum() / (y_train == 2).sum(),\n",
        "    # balances pos/neg if binary; for multiclass can omit or tune per-class\n",
        "    use_label_encoder=False,\n",
        "    eval_metric=\"mlogloss\",\n",
        "    random_state=42\n",
        ")\n",
        "classifier3.fit(X_train, y_train)\n",
        "\n",
        "\n",
        "y_pred = classifier3.predict(X_test)\n",
        "y_pred_proba = classifier3.predict_proba(X_test)\n",
        "\n",
        "accuracy = accuracy_score(y_test, y_pred)\n",
        "f1 = f1_score(y_test, y_pred, average='weighted')\n",
        "roc_auc = roc_auc_score(y_test, y_pred_proba, multi_class='ovr')\n",
        "\n",
        "print(\"XGBoost Performance\")\n",
        "print(f\"Accuracy: {accuracy:.3f}\")\n",
        "print(f\"F1 Score: {f1:.3f}\")\n",
        "print(f\"ROC AUC: {roc_auc:.3f}\")"
      ],
      "metadata": {
        "id": "EEw899Kj9KFq",
        "colab": {
          "base_uri": "https://localhost:8080/"
        },
        "outputId": "5c05a488-1570-40a3-ba72-b62ce3676cd6"
      },
      "execution_count": 38,
      "outputs": [
        {
          "output_type": "stream",
          "name": "stderr",
          "text": [
            "/usr/local/lib/python3.11/dist-packages/xgboost/core.py:158: UserWarning: [09:02:57] WARNING: /workspace/src/learner.cc:740: \n",
            "Parameters: { \"scale_pos_weight\", \"use_label_encoder\" } are not used.\n",
            "\n",
            "  warnings.warn(smsg, UserWarning)\n"
          ]
        },
        {
          "output_type": "stream",
          "name": "stdout",
          "text": [
            "XGBoost Performance\n",
            "Accuracy: 0.879\n",
            "F1 Score: 0.869\n",
            "ROC AUC: 0.930\n"
          ]
        }
      ]
    },
    {
      "cell_type": "code",
      "source": [
        "joblib.dump(classifier3, \"xgboost_classifier.joblib\")\n",
        "print(\"✅ Saved XGBoost → xgboost_classifier.joblib\")\n"
      ],
      "metadata": {
        "id": "pUSkp9gNWNoP",
        "colab": {
          "base_uri": "https://localhost:8080/"
        },
        "outputId": "4ece1b04-c8eb-4c58-84f9-f23c9d78f2f3"
      },
      "execution_count": 39,
      "outputs": [
        {
          "output_type": "stream",
          "name": "stdout",
          "text": [
            "✅ Saved XGBoost → xgboost_classifier.joblib\n"
          ]
        }
      ]
    },
    {
      "cell_type": "code",
      "source": [
        "from catboost import CatBoostClassifier\n",
        "\n",
        "classifier4 = CatBoostClassifier(\n",
        "    iterations=300,            # boosting rounds\n",
        "    depth=6,                   # tree depth\n",
        "    learning_rate=0.1,\n",
        "    l2_leaf_reg=3,             # L2 regularization\n",
        "    class_weights=[(y_train == 0).sum(), (y_train == 1).sum(), (y_train == 2).sum()],\n",
        "    # balances all three classes\n",
        "    verbose=False,\n",
        "    random_seed=42\n",
        ")\n",
        "classifier4.fit(X_train, y_train)\n",
        "\n",
        "\n",
        "y_pred = classifier4.predict(X_test)\n",
        "y_pred_proba = classifier4.predict_proba(X_test)\n",
        "\n",
        "accuracy = accuracy_score(y_test, y_pred)\n",
        "f1 = f1_score(y_test, y_pred, average='weighted')\n",
        "roc_auc = roc_auc_score(y_test, y_pred_proba, multi_class='ovr')\n",
        "\n",
        "print(\"CatBoost Performance\")\n",
        "print(f\"Accuracy: {accuracy:.3f}\")\n",
        "print(f\"F1 Score: {f1:.3f}\")\n",
        "print(f\"ROC AUC: {roc_auc:.3f}\")"
      ],
      "metadata": {
        "id": "jjkRcwu69KKl"
      },
      "execution_count": null,
      "outputs": []
    },
    {
      "cell_type": "code",
      "source": [
        "joblib.dump(classifier4, \"catboost_classifier.joblib\")\n",
        "print(\"✅ Saved CatBoost → catboost_classifier.joblib\")\n"
      ],
      "metadata": {
        "id": "frZfqGrVWPo3"
      },
      "execution_count": null,
      "outputs": []
    },
    {
      "cell_type": "code",
      "source": [
        "from sklearn.ensemble import GradientBoostingClassifier\n",
        "\n",
        "classifier5 = GradientBoostingClassifier(\n",
        "    n_estimators=200,\n",
        "    learning_rate=0.05,\n",
        "    max_depth=5,\n",
        "    subsample=0.8,\n",
        "    min_samples_split=5,\n",
        "    random_state=42\n",
        "    # no class_weight parameter—use oversampling or sample_weight if needed\n",
        ")\n",
        "classifier5.fit(X_train, y_train)\n",
        "\n",
        "\n",
        "y_pred = classifier5.predict(X_test)\n",
        "y_pred_proba = classifier5.predict_proba(X_test)\n",
        "\n",
        "accuracy = accuracy_score(y_test, y_pred)\n",
        "f1 = f1_score(y_test, y_pred, average='weighted')\n",
        "roc_auc = roc_auc_score(y_test, y_pred_proba, multi_class='ovr')\n",
        "\n",
        "print(\"Gradient Boosting Performance\")\n",
        "print(f\"Accuracy: {accuracy:.3f}\")\n",
        "print(f\"F1 Score: {f1:.3f}\")\n",
        "print(f\"ROC AUC: {roc_auc:.3f}\")"
      ],
      "metadata": {
        "id": "eMU_-_Ao9KPU"
      },
      "execution_count": null,
      "outputs": []
    },
    {
      "cell_type": "code",
      "source": [
        "joblib.dump(classifier5, \"gradient_boosting.joblib\")\n",
        "print(\"✅ Saved Gradient Boosting → gradient_boosting.joblib\")"
      ],
      "metadata": {
        "id": "od7zrFtOWScu"
      },
      "execution_count": null,
      "outputs": []
    },
    {
      "cell_type": "code",
      "source": [
        "from sklearn.ensemble import AdaBoostClassifier\n",
        "\n",
        "classifier6 = AdaBoostClassifier(\n",
        "    n_estimators=200,\n",
        "    learning_rate=0.5,\n",
        "    random_state=42\n",
        ")\n",
        "classifier6.fit(X_train, y_train)\n",
        "\n",
        "\n",
        "y_pred  = classifier6.predict(X_test)\n",
        "y_proba = classifier6.predict_proba(X_test)\n",
        "\n",
        "print(\"AdaBoost\")\n",
        "print(f\"Accuracy:  {accuracy_score(y_test, y_pred):.3f}\")\n",
        "print(f\"F1 Score:  {f1_score(y_test, y_pred, average='weighted'):.3f}\")\n",
        "print(f\"ROC AUC:   {roc_auc_score(y_test, y_proba, multi_class='ovr'):.3f}\")"
      ],
      "metadata": {
        "id": "8W1ImC4o-Clq"
      },
      "execution_count": null,
      "outputs": []
    },
    {
      "cell_type": "code",
      "source": [
        "joblib.dump(classifier6, \"adaboost_classifier.joblib\")\n",
        "print(\"✅ Saved AdaBoost → adaboost_classifier.joblib\")"
      ],
      "metadata": {
        "id": "fqcM7FcTWXBO"
      },
      "execution_count": null,
      "outputs": []
    },
    {
      "cell_type": "code",
      "source": [
        "from sklearn.svm import SVC\n",
        "\n",
        "classifier7 = SVC(\n",
        "    kernel=\"rbf\",\n",
        "    C=1.0,\n",
        "    gamma=\"scale\",\n",
        "    probability=True,\n",
        "    class_weight=\"balanced\",  # handle imbalance\n",
        "    max_iter=2000,\n",
        "    random_state=42\n",
        ")\n",
        "classifier7.fit(X_train, y_train)\n",
        "\n",
        "\n",
        "y_pred  = classifier7.predict(X_test)\n",
        "y_proba = classifier7.predict_proba(X_test)\n",
        "\n",
        "print(\"SVC\")\n",
        "print(f\"Accuracy:  {accuracy_score(y_test, y_pred):.3f}\")\n",
        "print(f\"F1 Score:  {f1_score(y_test, y_pred, average='weighted'):.3f}\")\n",
        "print(f\"ROC AUC:   {roc_auc_score(y_test, y_proba, multi_class='ovr'):.3f}\")"
      ],
      "metadata": {
        "id": "c1NP3Ceu9KT3"
      },
      "execution_count": null,
      "outputs": []
    },
    {
      "cell_type": "code",
      "source": [
        "joblib.dump(classifier7, \"svc_classifier.joblib\")\n",
        "print(\"✅ Saved SVC → svc_classifier.joblib\")"
      ],
      "metadata": {
        "id": "MH2pJMQGWafG"
      },
      "execution_count": null,
      "outputs": []
    },
    {
      "cell_type": "code",
      "source": [
        "from sklearn.neighbors import KNeighborsClassifier\n",
        "\n",
        "classifier8 = KNeighborsClassifier(\n",
        "    n_neighbors=5,\n",
        "    weights=\"distance\",\n",
        "    leaf_size=30,\n",
        "    metric=\"minkowski\",\n",
        "    p=2\n",
        ")\n",
        "classifier8.fit(X_train, y_train)\n",
        "\n",
        "\n",
        "y_pred  = classifier8.predict(X_test)\n",
        "y_proba = classifier8.predict_proba(X_test)\n",
        "\n",
        "print(\"KNN Classifier\")\n",
        "print(f\"Accuracy:  {accuracy_score(y_test, y_pred):.3f}\")\n",
        "print(f\"F1 Score:  {f1_score(y_test, y_pred, average='weighted'):.3f}\")\n",
        "print(f\"ROC AUC:   {roc_auc_score(y_test, y_proba, multi_class='ovr'):.3f}\")"
      ],
      "metadata": {
        "id": "1dVtnSjo9KZk"
      },
      "execution_count": null,
      "outputs": []
    },
    {
      "cell_type": "code",
      "source": [
        "joblib.dump(classifier8, \"knn_classifier.joblib\")\n",
        "print(\"✅ Saved KNN → knn_classifier.joblib\")"
      ],
      "metadata": {
        "id": "liBiy6NvWdOP"
      },
      "execution_count": null,
      "outputs": []
    },
    {
      "cell_type": "code",
      "source": [
        "from sklearn.ensemble import ExtraTreesClassifier\n",
        "\n",
        "classifier9 = ExtraTreesClassifier(\n",
        "    n_estimators=300,\n",
        "    max_depth=None,\n",
        "    min_samples_split=5,\n",
        "    min_samples_leaf=2,\n",
        "    max_features=\"sqrt\",\n",
        "    class_weight=\"balanced\",  # handle imbalance\n",
        "    random_state=42,\n",
        "    n_jobs=-1\n",
        ")\n",
        "classifier9.fit(X_train, y_train)\n",
        "\n",
        "\n",
        "y_pred  = classifier9.predict(X_test)\n",
        "y_proba = classifier9.predict_proba(X_test)\n",
        "\n",
        "print(\"🔹 Extra Trees\")\n",
        "print(f\"Accuracy:  {accuracy_score(y_test, y_pred):.3f}\")\n",
        "print(f\"F1 Score:  {f1_score(y_test, y_pred, average='weighted'):.3f}\")\n",
        "print(f\"ROC AUC:   {roc_auc_score(y_test, y_proba, multi_class='ovr'):.3f}\")"
      ],
      "metadata": {
        "id": "fW5yRrsd-CqM"
      },
      "execution_count": null,
      "outputs": []
    },
    {
      "cell_type": "code",
      "source": [
        "joblib.dump(classifier9, \"extra_trees_classifier.joblib\")\n",
        "print(\"✅ Saved Extra Trees → extra_trees_classifier.joblib\")"
      ],
      "metadata": {
        "id": "UZ2tp_nzWho-"
      },
      "execution_count": null,
      "outputs": []
    },
    {
      "cell_type": "code",
      "source": [
        "!pip -q install lightgbm\n",
        "\n",
        "from lightgbm import LGBMClassifier\n",
        "\n",
        "classifier10 = LGBMClassifier(\n",
        "    n_estimators=300,\n",
        "    learning_rate=0.05,\n",
        "    num_leaves=31,\n",
        "    max_depth=-1,\n",
        "    subsample=0.8,\n",
        "    colsample_bytree=0.8,\n",
        "    class_weight=\"balanced\",  # auto‑adjust weights\n",
        "    random_state=42,\n",
        "    n_jobs=-1\n",
        ")\n",
        "classifier10.fit(X_train, y_train)\n",
        "\n",
        "y_pred  = classifier10.predict(X_test)\n",
        "y_proba = classifier10.predict_proba(X_test)\n",
        "\n",
        "print(\"🔹 LightGBM\")\n",
        "print(f\"Accuracy:  {accuracy_score(y_test, y_pred):.3f}\")\n",
        "print(f\"F1 Score:  {f1_score(y_test, y_pred, average='weighted'):.3f}\")\n",
        "print(f\"ROC AUC:   {roc_auc_score(y_test, y_proba, multi_class='ovr'):.3f}\")"
      ],
      "metadata": {
        "id": "lb9_ggMX-Cuf"
      },
      "execution_count": null,
      "outputs": []
    },
    {
      "cell_type": "code",
      "source": [
        "joblib.dump(classifier10, \"lightgbm_classifier.joblib\")\n",
        "print(\"✅ Saved LightGBM → lightgbm_classifier.joblib\")"
      ],
      "metadata": {
        "id": "CKuJP_lY-NoI"
      },
      "execution_count": null,
      "outputs": []
    },
    {
      "cell_type": "markdown",
      "source": [
        "# The Best Model which is ot be used is XGBoost Classifier"
      ],
      "metadata": {
        "id": "-BGylZZc-NtC"
      }
    },
    {
      "cell_type": "code",
      "execution_count": null,
      "metadata": {
        "id": "zBpXDzlEuSZU"
      },
      "outputs": [],
      "source": []
    }
  ],
  "metadata": {
    "colab": {
      "provenance": []
    },
    "kaggle": {
      "accelerator": "none",
      "dataSources": [
        {
          "datasetId": 1240655,
          "sourceId": 2069997,
          "sourceType": "datasetVersion"
        }
      ],
      "dockerImageVersionId": 30822,
      "isGpuEnabled": false,
      "isInternetEnabled": true,
      "language": "python",
      "sourceType": "notebook"
    },
    "kernelspec": {
      "display_name": "Python 3",
      "language": "python",
      "name": "python3"
    },
    "language_info": {
      "codemirror_mode": {
        "name": "ipython",
        "version": 3
      },
      "file_extension": ".py",
      "mimetype": "text/x-python",
      "name": "python",
      "nbconvert_exporter": "python",
      "pygments_lexer": "ipython3",
      "version": "3.10.12"
    },
    "widgets": {
      "application/vnd.jupyter.widget-state+json": {
        "921a041a5b954143b566586be3d9438a": {
          "model_module": "@jupyter-widgets/controls",
          "model_name": "HBoxModel",
          "model_module_version": "1.5.0",
          "state": {
            "_dom_classes": [],
            "_model_module": "@jupyter-widgets/controls",
            "_model_module_version": "1.5.0",
            "_model_name": "HBoxModel",
            "_view_count": null,
            "_view_module": "@jupyter-widgets/controls",
            "_view_module_version": "1.5.0",
            "_view_name": "HBoxView",
            "box_style": "",
            "children": [
              "IPY_MODEL_d1ab01cd041c4aaa8902989f12c21434",
              "IPY_MODEL_994e399614da4e53a38b229846f6e2f4",
              "IPY_MODEL_bf4c018164774321b98df6abd976621a"
            ],
            "layout": "IPY_MODEL_5c1bbb6f2ee0498ea9b6a3e310afd40a"
          }
        },
        "d1ab01cd041c4aaa8902989f12c21434": {
          "model_module": "@jupyter-widgets/controls",
          "model_name": "HTMLModel",
          "model_module_version": "1.5.0",
          "state": {
            "_dom_classes": [],
            "_model_module": "@jupyter-widgets/controls",
            "_model_module_version": "1.5.0",
            "_model_name": "HTMLModel",
            "_view_count": null,
            "_view_module": "@jupyter-widgets/controls",
            "_view_module_version": "1.5.0",
            "_view_name": "HTMLView",
            "description": "",
            "description_tooltip": null,
            "layout": "IPY_MODEL_7178f98a1c3740eeb6765151ff1d0666",
            "placeholder": "​",
            "style": "IPY_MODEL_27b4c5e2b0424010bbc24f45683a3721",
            "value": "Pandas Apply: 100%"
          }
        },
        "994e399614da4e53a38b229846f6e2f4": {
          "model_module": "@jupyter-widgets/controls",
          "model_name": "FloatProgressModel",
          "model_module_version": "1.5.0",
          "state": {
            "_dom_classes": [],
            "_model_module": "@jupyter-widgets/controls",
            "_model_module_version": "1.5.0",
            "_model_name": "FloatProgressModel",
            "_view_count": null,
            "_view_module": "@jupyter-widgets/controls",
            "_view_module_version": "1.5.0",
            "_view_name": "ProgressView",
            "bar_style": "success",
            "description": "",
            "description_tooltip": null,
            "layout": "IPY_MODEL_959cd7322008453983a259de4ae172dc",
            "max": 24617,
            "min": 0,
            "orientation": "horizontal",
            "style": "IPY_MODEL_f2d3726d521e4c209611839f3a9ef217",
            "value": 24617
          }
        },
        "bf4c018164774321b98df6abd976621a": {
          "model_module": "@jupyter-widgets/controls",
          "model_name": "HTMLModel",
          "model_module_version": "1.5.0",
          "state": {
            "_dom_classes": [],
            "_model_module": "@jupyter-widgets/controls",
            "_model_module_version": "1.5.0",
            "_model_name": "HTMLModel",
            "_view_count": null,
            "_view_module": "@jupyter-widgets/controls",
            "_view_module_version": "1.5.0",
            "_view_name": "HTMLView",
            "description": "",
            "description_tooltip": null,
            "layout": "IPY_MODEL_ed8b5feaed134a1fb112c9701b311056",
            "placeholder": "​",
            "style": "IPY_MODEL_ef1938a6cc604addb639d4d16ef8768f",
            "value": " 24617/24617 [22:08&lt;00:00, 20.30it/s]"
          }
        },
        "5c1bbb6f2ee0498ea9b6a3e310afd40a": {
          "model_module": "@jupyter-widgets/base",
          "model_name": "LayoutModel",
          "model_module_version": "1.2.0",
          "state": {
            "_model_module": "@jupyter-widgets/base",
            "_model_module_version": "1.2.0",
            "_model_name": "LayoutModel",
            "_view_count": null,
            "_view_module": "@jupyter-widgets/base",
            "_view_module_version": "1.2.0",
            "_view_name": "LayoutView",
            "align_content": null,
            "align_items": null,
            "align_self": null,
            "border": null,
            "bottom": null,
            "display": null,
            "flex": null,
            "flex_flow": null,
            "grid_area": null,
            "grid_auto_columns": null,
            "grid_auto_flow": null,
            "grid_auto_rows": null,
            "grid_column": null,
            "grid_gap": null,
            "grid_row": null,
            "grid_template_areas": null,
            "grid_template_columns": null,
            "grid_template_rows": null,
            "height": null,
            "justify_content": null,
            "justify_items": null,
            "left": null,
            "margin": null,
            "max_height": null,
            "max_width": null,
            "min_height": null,
            "min_width": null,
            "object_fit": null,
            "object_position": null,
            "order": null,
            "overflow": null,
            "overflow_x": null,
            "overflow_y": null,
            "padding": null,
            "right": null,
            "top": null,
            "visibility": null,
            "width": null
          }
        },
        "7178f98a1c3740eeb6765151ff1d0666": {
          "model_module": "@jupyter-widgets/base",
          "model_name": "LayoutModel",
          "model_module_version": "1.2.0",
          "state": {
            "_model_module": "@jupyter-widgets/base",
            "_model_module_version": "1.2.0",
            "_model_name": "LayoutModel",
            "_view_count": null,
            "_view_module": "@jupyter-widgets/base",
            "_view_module_version": "1.2.0",
            "_view_name": "LayoutView",
            "align_content": null,
            "align_items": null,
            "align_self": null,
            "border": null,
            "bottom": null,
            "display": null,
            "flex": null,
            "flex_flow": null,
            "grid_area": null,
            "grid_auto_columns": null,
            "grid_auto_flow": null,
            "grid_auto_rows": null,
            "grid_column": null,
            "grid_gap": null,
            "grid_row": null,
            "grid_template_areas": null,
            "grid_template_columns": null,
            "grid_template_rows": null,
            "height": null,
            "justify_content": null,
            "justify_items": null,
            "left": null,
            "margin": null,
            "max_height": null,
            "max_width": null,
            "min_height": null,
            "min_width": null,
            "object_fit": null,
            "object_position": null,
            "order": null,
            "overflow": null,
            "overflow_x": null,
            "overflow_y": null,
            "padding": null,
            "right": null,
            "top": null,
            "visibility": null,
            "width": null
          }
        },
        "27b4c5e2b0424010bbc24f45683a3721": {
          "model_module": "@jupyter-widgets/controls",
          "model_name": "DescriptionStyleModel",
          "model_module_version": "1.5.0",
          "state": {
            "_model_module": "@jupyter-widgets/controls",
            "_model_module_version": "1.5.0",
            "_model_name": "DescriptionStyleModel",
            "_view_count": null,
            "_view_module": "@jupyter-widgets/base",
            "_view_module_version": "1.2.0",
            "_view_name": "StyleView",
            "description_width": ""
          }
        },
        "959cd7322008453983a259de4ae172dc": {
          "model_module": "@jupyter-widgets/base",
          "model_name": "LayoutModel",
          "model_module_version": "1.2.0",
          "state": {
            "_model_module": "@jupyter-widgets/base",
            "_model_module_version": "1.2.0",
            "_model_name": "LayoutModel",
            "_view_count": null,
            "_view_module": "@jupyter-widgets/base",
            "_view_module_version": "1.2.0",
            "_view_name": "LayoutView",
            "align_content": null,
            "align_items": null,
            "align_self": null,
            "border": null,
            "bottom": null,
            "display": null,
            "flex": null,
            "flex_flow": null,
            "grid_area": null,
            "grid_auto_columns": null,
            "grid_auto_flow": null,
            "grid_auto_rows": null,
            "grid_column": null,
            "grid_gap": null,
            "grid_row": null,
            "grid_template_areas": null,
            "grid_template_columns": null,
            "grid_template_rows": null,
            "height": null,
            "justify_content": null,
            "justify_items": null,
            "left": null,
            "margin": null,
            "max_height": null,
            "max_width": null,
            "min_height": null,
            "min_width": null,
            "object_fit": null,
            "object_position": null,
            "order": null,
            "overflow": null,
            "overflow_x": null,
            "overflow_y": null,
            "padding": null,
            "right": null,
            "top": null,
            "visibility": null,
            "width": null
          }
        },
        "f2d3726d521e4c209611839f3a9ef217": {
          "model_module": "@jupyter-widgets/controls",
          "model_name": "ProgressStyleModel",
          "model_module_version": "1.5.0",
          "state": {
            "_model_module": "@jupyter-widgets/controls",
            "_model_module_version": "1.5.0",
            "_model_name": "ProgressStyleModel",
            "_view_count": null,
            "_view_module": "@jupyter-widgets/base",
            "_view_module_version": "1.2.0",
            "_view_name": "StyleView",
            "bar_color": null,
            "description_width": ""
          }
        },
        "ed8b5feaed134a1fb112c9701b311056": {
          "model_module": "@jupyter-widgets/base",
          "model_name": "LayoutModel",
          "model_module_version": "1.2.0",
          "state": {
            "_model_module": "@jupyter-widgets/base",
            "_model_module_version": "1.2.0",
            "_model_name": "LayoutModel",
            "_view_count": null,
            "_view_module": "@jupyter-widgets/base",
            "_view_module_version": "1.2.0",
            "_view_name": "LayoutView",
            "align_content": null,
            "align_items": null,
            "align_self": null,
            "border": null,
            "bottom": null,
            "display": null,
            "flex": null,
            "flex_flow": null,
            "grid_area": null,
            "grid_auto_columns": null,
            "grid_auto_flow": null,
            "grid_auto_rows": null,
            "grid_column": null,
            "grid_gap": null,
            "grid_row": null,
            "grid_template_areas": null,
            "grid_template_columns": null,
            "grid_template_rows": null,
            "height": null,
            "justify_content": null,
            "justify_items": null,
            "left": null,
            "margin": null,
            "max_height": null,
            "max_width": null,
            "min_height": null,
            "min_width": null,
            "object_fit": null,
            "object_position": null,
            "order": null,
            "overflow": null,
            "overflow_x": null,
            "overflow_y": null,
            "padding": null,
            "right": null,
            "top": null,
            "visibility": null,
            "width": null
          }
        },
        "ef1938a6cc604addb639d4d16ef8768f": {
          "model_module": "@jupyter-widgets/controls",
          "model_name": "DescriptionStyleModel",
          "model_module_version": "1.5.0",
          "state": {
            "_model_module": "@jupyter-widgets/controls",
            "_model_module_version": "1.5.0",
            "_model_name": "DescriptionStyleModel",
            "_view_count": null,
            "_view_module": "@jupyter-widgets/base",
            "_view_module_version": "1.2.0",
            "_view_name": "StyleView",
            "description_width": ""
          }
        },
        "9a2b037f22774236821de74c44f22d66": {
          "model_module": "@jupyter-widgets/controls",
          "model_name": "HBoxModel",
          "model_module_version": "1.5.0",
          "state": {
            "_dom_classes": [],
            "_model_module": "@jupyter-widgets/controls",
            "_model_module_version": "1.5.0",
            "_model_name": "HBoxModel",
            "_view_count": null,
            "_view_module": "@jupyter-widgets/controls",
            "_view_module_version": "1.5.0",
            "_view_name": "HBoxView",
            "box_style": "",
            "children": [
              "IPY_MODEL_82d53744847a46069e3f45db0ba6cfe0",
              "IPY_MODEL_22b6d22f1d9144a48fe8ffeb13478de2",
              "IPY_MODEL_e652b77ac95f420bb46d1237838dce4a"
            ],
            "layout": "IPY_MODEL_fe08df94e5ed47baa9dcafc813c6e28f"
          }
        },
        "82d53744847a46069e3f45db0ba6cfe0": {
          "model_module": "@jupyter-widgets/controls",
          "model_name": "HTMLModel",
          "model_module_version": "1.5.0",
          "state": {
            "_dom_classes": [],
            "_model_module": "@jupyter-widgets/controls",
            "_model_module_version": "1.5.0",
            "_model_name": "HTMLModel",
            "_view_count": null,
            "_view_module": "@jupyter-widgets/controls",
            "_view_module_version": "1.5.0",
            "_view_name": "HTMLView",
            "description": "",
            "description_tooltip": null,
            "layout": "IPY_MODEL_b5e825bbd6a2426580d543fcc5162b6d",
            "placeholder": "​",
            "style": "IPY_MODEL_c7a9b77cfed34cfa9a648969af3ae609",
            "value": "Pandas Apply: 100%"
          }
        },
        "22b6d22f1d9144a48fe8ffeb13478de2": {
          "model_module": "@jupyter-widgets/controls",
          "model_name": "FloatProgressModel",
          "model_module_version": "1.5.0",
          "state": {
            "_dom_classes": [],
            "_model_module": "@jupyter-widgets/controls",
            "_model_module_version": "1.5.0",
            "_model_name": "FloatProgressModel",
            "_view_count": null,
            "_view_module": "@jupyter-widgets/controls",
            "_view_module_version": "1.5.0",
            "_view_name": "ProgressView",
            "bar_style": "success",
            "description": "",
            "description_tooltip": null,
            "layout": "IPY_MODEL_7f4696a59225464a845f2d2b47a42132",
            "max": 24617,
            "min": 0,
            "orientation": "horizontal",
            "style": "IPY_MODEL_a9f22928f3a34d96978dd36f709d5ee6",
            "value": 24617
          }
        },
        "e652b77ac95f420bb46d1237838dce4a": {
          "model_module": "@jupyter-widgets/controls",
          "model_name": "HTMLModel",
          "model_module_version": "1.5.0",
          "state": {
            "_dom_classes": [],
            "_model_module": "@jupyter-widgets/controls",
            "_model_module_version": "1.5.0",
            "_model_name": "HTMLModel",
            "_view_count": null,
            "_view_module": "@jupyter-widgets/controls",
            "_view_module_version": "1.5.0",
            "_view_name": "HTMLView",
            "description": "",
            "description_tooltip": null,
            "layout": "IPY_MODEL_1f43746720d14f9e8a0684c71cb15149",
            "placeholder": "​",
            "style": "IPY_MODEL_d2e22f6400a8428c98843a1d5edf169a",
            "value": " 24617/24617 [05:46&lt;00:00, 80.53it/s]"
          }
        },
        "fe08df94e5ed47baa9dcafc813c6e28f": {
          "model_module": "@jupyter-widgets/base",
          "model_name": "LayoutModel",
          "model_module_version": "1.2.0",
          "state": {
            "_model_module": "@jupyter-widgets/base",
            "_model_module_version": "1.2.0",
            "_model_name": "LayoutModel",
            "_view_count": null,
            "_view_module": "@jupyter-widgets/base",
            "_view_module_version": "1.2.0",
            "_view_name": "LayoutView",
            "align_content": null,
            "align_items": null,
            "align_self": null,
            "border": null,
            "bottom": null,
            "display": null,
            "flex": null,
            "flex_flow": null,
            "grid_area": null,
            "grid_auto_columns": null,
            "grid_auto_flow": null,
            "grid_auto_rows": null,
            "grid_column": null,
            "grid_gap": null,
            "grid_row": null,
            "grid_template_areas": null,
            "grid_template_columns": null,
            "grid_template_rows": null,
            "height": null,
            "justify_content": null,
            "justify_items": null,
            "left": null,
            "margin": null,
            "max_height": null,
            "max_width": null,
            "min_height": null,
            "min_width": null,
            "object_fit": null,
            "object_position": null,
            "order": null,
            "overflow": null,
            "overflow_x": null,
            "overflow_y": null,
            "padding": null,
            "right": null,
            "top": null,
            "visibility": null,
            "width": null
          }
        },
        "b5e825bbd6a2426580d543fcc5162b6d": {
          "model_module": "@jupyter-widgets/base",
          "model_name": "LayoutModel",
          "model_module_version": "1.2.0",
          "state": {
            "_model_module": "@jupyter-widgets/base",
            "_model_module_version": "1.2.0",
            "_model_name": "LayoutModel",
            "_view_count": null,
            "_view_module": "@jupyter-widgets/base",
            "_view_module_version": "1.2.0",
            "_view_name": "LayoutView",
            "align_content": null,
            "align_items": null,
            "align_self": null,
            "border": null,
            "bottom": null,
            "display": null,
            "flex": null,
            "flex_flow": null,
            "grid_area": null,
            "grid_auto_columns": null,
            "grid_auto_flow": null,
            "grid_auto_rows": null,
            "grid_column": null,
            "grid_gap": null,
            "grid_row": null,
            "grid_template_areas": null,
            "grid_template_columns": null,
            "grid_template_rows": null,
            "height": null,
            "justify_content": null,
            "justify_items": null,
            "left": null,
            "margin": null,
            "max_height": null,
            "max_width": null,
            "min_height": null,
            "min_width": null,
            "object_fit": null,
            "object_position": null,
            "order": null,
            "overflow": null,
            "overflow_x": null,
            "overflow_y": null,
            "padding": null,
            "right": null,
            "top": null,
            "visibility": null,
            "width": null
          }
        },
        "c7a9b77cfed34cfa9a648969af3ae609": {
          "model_module": "@jupyter-widgets/controls",
          "model_name": "DescriptionStyleModel",
          "model_module_version": "1.5.0",
          "state": {
            "_model_module": "@jupyter-widgets/controls",
            "_model_module_version": "1.5.0",
            "_model_name": "DescriptionStyleModel",
            "_view_count": null,
            "_view_module": "@jupyter-widgets/base",
            "_view_module_version": "1.2.0",
            "_view_name": "StyleView",
            "description_width": ""
          }
        },
        "7f4696a59225464a845f2d2b47a42132": {
          "model_module": "@jupyter-widgets/base",
          "model_name": "LayoutModel",
          "model_module_version": "1.2.0",
          "state": {
            "_model_module": "@jupyter-widgets/base",
            "_model_module_version": "1.2.0",
            "_model_name": "LayoutModel",
            "_view_count": null,
            "_view_module": "@jupyter-widgets/base",
            "_view_module_version": "1.2.0",
            "_view_name": "LayoutView",
            "align_content": null,
            "align_items": null,
            "align_self": null,
            "border": null,
            "bottom": null,
            "display": null,
            "flex": null,
            "flex_flow": null,
            "grid_area": null,
            "grid_auto_columns": null,
            "grid_auto_flow": null,
            "grid_auto_rows": null,
            "grid_column": null,
            "grid_gap": null,
            "grid_row": null,
            "grid_template_areas": null,
            "grid_template_columns": null,
            "grid_template_rows": null,
            "height": null,
            "justify_content": null,
            "justify_items": null,
            "left": null,
            "margin": null,
            "max_height": null,
            "max_width": null,
            "min_height": null,
            "min_width": null,
            "object_fit": null,
            "object_position": null,
            "order": null,
            "overflow": null,
            "overflow_x": null,
            "overflow_y": null,
            "padding": null,
            "right": null,
            "top": null,
            "visibility": null,
            "width": null
          }
        },
        "a9f22928f3a34d96978dd36f709d5ee6": {
          "model_module": "@jupyter-widgets/controls",
          "model_name": "ProgressStyleModel",
          "model_module_version": "1.5.0",
          "state": {
            "_model_module": "@jupyter-widgets/controls",
            "_model_module_version": "1.5.0",
            "_model_name": "ProgressStyleModel",
            "_view_count": null,
            "_view_module": "@jupyter-widgets/base",
            "_view_module_version": "1.2.0",
            "_view_name": "StyleView",
            "bar_color": null,
            "description_width": ""
          }
        },
        "1f43746720d14f9e8a0684c71cb15149": {
          "model_module": "@jupyter-widgets/base",
          "model_name": "LayoutModel",
          "model_module_version": "1.2.0",
          "state": {
            "_model_module": "@jupyter-widgets/base",
            "_model_module_version": "1.2.0",
            "_model_name": "LayoutModel",
            "_view_count": null,
            "_view_module": "@jupyter-widgets/base",
            "_view_module_version": "1.2.0",
            "_view_name": "LayoutView",
            "align_content": null,
            "align_items": null,
            "align_self": null,
            "border": null,
            "bottom": null,
            "display": null,
            "flex": null,
            "flex_flow": null,
            "grid_area": null,
            "grid_auto_columns": null,
            "grid_auto_flow": null,
            "grid_auto_rows": null,
            "grid_column": null,
            "grid_gap": null,
            "grid_row": null,
            "grid_template_areas": null,
            "grid_template_columns": null,
            "grid_template_rows": null,
            "height": null,
            "justify_content": null,
            "justify_items": null,
            "left": null,
            "margin": null,
            "max_height": null,
            "max_width": null,
            "min_height": null,
            "min_width": null,
            "object_fit": null,
            "object_position": null,
            "order": null,
            "overflow": null,
            "overflow_x": null,
            "overflow_y": null,
            "padding": null,
            "right": null,
            "top": null,
            "visibility": null,
            "width": null
          }
        },
        "d2e22f6400a8428c98843a1d5edf169a": {
          "model_module": "@jupyter-widgets/controls",
          "model_name": "DescriptionStyleModel",
          "model_module_version": "1.5.0",
          "state": {
            "_model_module": "@jupyter-widgets/controls",
            "_model_module_version": "1.5.0",
            "_model_name": "DescriptionStyleModel",
            "_view_count": null,
            "_view_module": "@jupyter-widgets/base",
            "_view_module_version": "1.2.0",
            "_view_name": "StyleView",
            "description_width": ""
          }
        },
        "e45993e6c4534f348f7f81dbc3032e9e": {
          "model_module": "@jupyter-widgets/controls",
          "model_name": "HBoxModel",
          "model_module_version": "1.5.0",
          "state": {
            "_dom_classes": [],
            "_model_module": "@jupyter-widgets/controls",
            "_model_module_version": "1.5.0",
            "_model_name": "HBoxModel",
            "_view_count": null,
            "_view_module": "@jupyter-widgets/controls",
            "_view_module_version": "1.5.0",
            "_view_name": "HBoxView",
            "box_style": "",
            "children": [
              "IPY_MODEL_459fceff21594f2489e35705d42b5d78",
              "IPY_MODEL_45f31271c5094b88a6c20e0b03159cb2",
              "IPY_MODEL_7fe421308d254956928f4731ae0e4698"
            ],
            "layout": "IPY_MODEL_9b9fc5299c9f444d8ce57de927d1bf5e"
          }
        },
        "459fceff21594f2489e35705d42b5d78": {
          "model_module": "@jupyter-widgets/controls",
          "model_name": "HTMLModel",
          "model_module_version": "1.5.0",
          "state": {
            "_dom_classes": [],
            "_model_module": "@jupyter-widgets/controls",
            "_model_module_version": "1.5.0",
            "_model_name": "HTMLModel",
            "_view_count": null,
            "_view_module": "@jupyter-widgets/controls",
            "_view_module_version": "1.5.0",
            "_view_name": "HTMLView",
            "description": "",
            "description_tooltip": null,
            "layout": "IPY_MODEL_4219afbb4b224861832b0611a0166cf1",
            "placeholder": "​",
            "style": "IPY_MODEL_75b42b9b4133448a8f14c8b8d023a79f",
            "value": "Pandas Apply: 100%"
          }
        },
        "45f31271c5094b88a6c20e0b03159cb2": {
          "model_module": "@jupyter-widgets/controls",
          "model_name": "FloatProgressModel",
          "model_module_version": "1.5.0",
          "state": {
            "_dom_classes": [],
            "_model_module": "@jupyter-widgets/controls",
            "_model_module_version": "1.5.0",
            "_model_name": "FloatProgressModel",
            "_view_count": null,
            "_view_module": "@jupyter-widgets/controls",
            "_view_module_version": "1.5.0",
            "_view_name": "ProgressView",
            "bar_style": "success",
            "description": "",
            "description_tooltip": null,
            "layout": "IPY_MODEL_244286af80d4445998c8e36a5f13795a",
            "max": 24617,
            "min": 0,
            "orientation": "horizontal",
            "style": "IPY_MODEL_b9f5a1ae93ad49389d18ec9181106890",
            "value": 24617
          }
        },
        "7fe421308d254956928f4731ae0e4698": {
          "model_module": "@jupyter-widgets/controls",
          "model_name": "HTMLModel",
          "model_module_version": "1.5.0",
          "state": {
            "_dom_classes": [],
            "_model_module": "@jupyter-widgets/controls",
            "_model_module_version": "1.5.0",
            "_model_name": "HTMLModel",
            "_view_count": null,
            "_view_module": "@jupyter-widgets/controls",
            "_view_module_version": "1.5.0",
            "_view_name": "HTMLView",
            "description": "",
            "description_tooltip": null,
            "layout": "IPY_MODEL_a45ed92301604f8da9793a7c6d596acd",
            "placeholder": "​",
            "style": "IPY_MODEL_0acf0b081f9e4352984c9bf87e00761c",
            "value": " 24617/24617 [00:00&lt;00:00, 104365.87it/s]"
          }
        },
        "9b9fc5299c9f444d8ce57de927d1bf5e": {
          "model_module": "@jupyter-widgets/base",
          "model_name": "LayoutModel",
          "model_module_version": "1.2.0",
          "state": {
            "_model_module": "@jupyter-widgets/base",
            "_model_module_version": "1.2.0",
            "_model_name": "LayoutModel",
            "_view_count": null,
            "_view_module": "@jupyter-widgets/base",
            "_view_module_version": "1.2.0",
            "_view_name": "LayoutView",
            "align_content": null,
            "align_items": null,
            "align_self": null,
            "border": null,
            "bottom": null,
            "display": null,
            "flex": null,
            "flex_flow": null,
            "grid_area": null,
            "grid_auto_columns": null,
            "grid_auto_flow": null,
            "grid_auto_rows": null,
            "grid_column": null,
            "grid_gap": null,
            "grid_row": null,
            "grid_template_areas": null,
            "grid_template_columns": null,
            "grid_template_rows": null,
            "height": null,
            "justify_content": null,
            "justify_items": null,
            "left": null,
            "margin": null,
            "max_height": null,
            "max_width": null,
            "min_height": null,
            "min_width": null,
            "object_fit": null,
            "object_position": null,
            "order": null,
            "overflow": null,
            "overflow_x": null,
            "overflow_y": null,
            "padding": null,
            "right": null,
            "top": null,
            "visibility": null,
            "width": null
          }
        },
        "4219afbb4b224861832b0611a0166cf1": {
          "model_module": "@jupyter-widgets/base",
          "model_name": "LayoutModel",
          "model_module_version": "1.2.0",
          "state": {
            "_model_module": "@jupyter-widgets/base",
            "_model_module_version": "1.2.0",
            "_model_name": "LayoutModel",
            "_view_count": null,
            "_view_module": "@jupyter-widgets/base",
            "_view_module_version": "1.2.0",
            "_view_name": "LayoutView",
            "align_content": null,
            "align_items": null,
            "align_self": null,
            "border": null,
            "bottom": null,
            "display": null,
            "flex": null,
            "flex_flow": null,
            "grid_area": null,
            "grid_auto_columns": null,
            "grid_auto_flow": null,
            "grid_auto_rows": null,
            "grid_column": null,
            "grid_gap": null,
            "grid_row": null,
            "grid_template_areas": null,
            "grid_template_columns": null,
            "grid_template_rows": null,
            "height": null,
            "justify_content": null,
            "justify_items": null,
            "left": null,
            "margin": null,
            "max_height": null,
            "max_width": null,
            "min_height": null,
            "min_width": null,
            "object_fit": null,
            "object_position": null,
            "order": null,
            "overflow": null,
            "overflow_x": null,
            "overflow_y": null,
            "padding": null,
            "right": null,
            "top": null,
            "visibility": null,
            "width": null
          }
        },
        "75b42b9b4133448a8f14c8b8d023a79f": {
          "model_module": "@jupyter-widgets/controls",
          "model_name": "DescriptionStyleModel",
          "model_module_version": "1.5.0",
          "state": {
            "_model_module": "@jupyter-widgets/controls",
            "_model_module_version": "1.5.0",
            "_model_name": "DescriptionStyleModel",
            "_view_count": null,
            "_view_module": "@jupyter-widgets/base",
            "_view_module_version": "1.2.0",
            "_view_name": "StyleView",
            "description_width": ""
          }
        },
        "244286af80d4445998c8e36a5f13795a": {
          "model_module": "@jupyter-widgets/base",
          "model_name": "LayoutModel",
          "model_module_version": "1.2.0",
          "state": {
            "_model_module": "@jupyter-widgets/base",
            "_model_module_version": "1.2.0",
            "_model_name": "LayoutModel",
            "_view_count": null,
            "_view_module": "@jupyter-widgets/base",
            "_view_module_version": "1.2.0",
            "_view_name": "LayoutView",
            "align_content": null,
            "align_items": null,
            "align_self": null,
            "border": null,
            "bottom": null,
            "display": null,
            "flex": null,
            "flex_flow": null,
            "grid_area": null,
            "grid_auto_columns": null,
            "grid_auto_flow": null,
            "grid_auto_rows": null,
            "grid_column": null,
            "grid_gap": null,
            "grid_row": null,
            "grid_template_areas": null,
            "grid_template_columns": null,
            "grid_template_rows": null,
            "height": null,
            "justify_content": null,
            "justify_items": null,
            "left": null,
            "margin": null,
            "max_height": null,
            "max_width": null,
            "min_height": null,
            "min_width": null,
            "object_fit": null,
            "object_position": null,
            "order": null,
            "overflow": null,
            "overflow_x": null,
            "overflow_y": null,
            "padding": null,
            "right": null,
            "top": null,
            "visibility": null,
            "width": null
          }
        },
        "b9f5a1ae93ad49389d18ec9181106890": {
          "model_module": "@jupyter-widgets/controls",
          "model_name": "ProgressStyleModel",
          "model_module_version": "1.5.0",
          "state": {
            "_model_module": "@jupyter-widgets/controls",
            "_model_module_version": "1.5.0",
            "_model_name": "ProgressStyleModel",
            "_view_count": null,
            "_view_module": "@jupyter-widgets/base",
            "_view_module_version": "1.2.0",
            "_view_name": "StyleView",
            "bar_color": null,
            "description_width": ""
          }
        },
        "a45ed92301604f8da9793a7c6d596acd": {
          "model_module": "@jupyter-widgets/base",
          "model_name": "LayoutModel",
          "model_module_version": "1.2.0",
          "state": {
            "_model_module": "@jupyter-widgets/base",
            "_model_module_version": "1.2.0",
            "_model_name": "LayoutModel",
            "_view_count": null,
            "_view_module": "@jupyter-widgets/base",
            "_view_module_version": "1.2.0",
            "_view_name": "LayoutView",
            "align_content": null,
            "align_items": null,
            "align_self": null,
            "border": null,
            "bottom": null,
            "display": null,
            "flex": null,
            "flex_flow": null,
            "grid_area": null,
            "grid_auto_columns": null,
            "grid_auto_flow": null,
            "grid_auto_rows": null,
            "grid_column": null,
            "grid_gap": null,
            "grid_row": null,
            "grid_template_areas": null,
            "grid_template_columns": null,
            "grid_template_rows": null,
            "height": null,
            "justify_content": null,
            "justify_items": null,
            "left": null,
            "margin": null,
            "max_height": null,
            "max_width": null,
            "min_height": null,
            "min_width": null,
            "object_fit": null,
            "object_position": null,
            "order": null,
            "overflow": null,
            "overflow_x": null,
            "overflow_y": null,
            "padding": null,
            "right": null,
            "top": null,
            "visibility": null,
            "width": null
          }
        },
        "0acf0b081f9e4352984c9bf87e00761c": {
          "model_module": "@jupyter-widgets/controls",
          "model_name": "DescriptionStyleModel",
          "model_module_version": "1.5.0",
          "state": {
            "_model_module": "@jupyter-widgets/controls",
            "_model_module_version": "1.5.0",
            "_model_name": "DescriptionStyleModel",
            "_view_count": null,
            "_view_module": "@jupyter-widgets/base",
            "_view_module_version": "1.2.0",
            "_view_name": "StyleView",
            "description_width": ""
          }
        }
      }
    }
  },
  "nbformat": 4,
  "nbformat_minor": 0
}